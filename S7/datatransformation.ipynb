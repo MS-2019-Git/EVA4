{
  "nbformat": 4,
  "nbformat_minor": 0,
  "metadata": {
    "colab": {
      "name": "datatransformation.ipynb",
      "provenance": [],
      "collapsed_sections": [],
      "authorship_tag": "ABX9TyOplH+rRB1YJOeRbdqBctds",
      "include_colab_link": true
    },
    "kernelspec": {
      "name": "python3",
      "display_name": "Python 3"
    }
  },
  "cells": [
    {
      "cell_type": "markdown",
      "metadata": {
        "id": "view-in-github",
        "colab_type": "text"
      },
      "source": [
        "<a href=\"https://colab.research.google.com/github/MohuaSinha/EIP4/blob/master/S7/datatransformation.ipynb\" target=\"_parent\"><img src=\"https://colab.research.google.com/assets/colab-badge.svg\" alt=\"Open In Colab\"/></a>"
      ]
    },
    {
      "cell_type": "code",
      "metadata": {
        "id": "KqsJDJVIHjdp",
        "colab_type": "code",
        "colab": {}
      },
      "source": [
        "import torch\n",
        "import torchvision\n",
        "import torchvision.transforms as transforms\n",
        "from torchvision import datasets, transforms\n",
        "\n",
        "\n",
        "def load():\n",
        "      # Train Phase transformations\n",
        "      train_transforms = transforms.Compose([\n",
        "                                            #  transforms.Resize((28, 28)),\n",
        "                                            #  transforms.ColorJitter(brightness=0.10, contrast=0.1, saturation=0.10, hue=0.1),\n",
        "                                            #transforms.RandomRotation((-7.0, 7.0), fill=(1,)),\n",
        "                                            transforms.ToTensor(),\n",
        "                                            transforms.Normalize((0.485, 0.456, 0.406), (0.229, 0.224, 0.225)) # The mean and std have to be sequences (e.g., tuples), therefore you should add a comma after the values. \n",
        "                                            # Note the difference between (0.1307) and (0.1307,)\n",
        "                                            ])\n",
        "\n",
        "      # Test Phase transformations\n",
        "      test_transforms = transforms.Compose([\n",
        "                                            #  transforms.Resize((28, 28)),\n",
        "                                            #  transforms.ColorJitter(brightness=0.10, contrast=0.1, saturation=0.10, hue=0.1),\n",
        "                                            transforms.ToTensor(),\n",
        "                                            transforms.Normalize((0.485, 0.456, 0.406), (0.229, 0.224, 0.225))\n",
        "                                            ])\n",
        "      return train_transforms , test_transforms"
      ],
      "execution_count": 0,
      "outputs": []
    },
    {
      "cell_type": "code",
      "metadata": {
        "id": "-5in5powHnzi",
        "colab_type": "code",
        "colab": {}
      },
      "source": [
        "def dataloaders(seed, batch_size, workers,train_transforms,test_transforms):\n",
        "\n",
        "    SEED = seed\n",
        "\n",
        "    # CUDA?\n",
        "    cuda = torch.cuda.is_available()\n",
        "    print(\"CUDA Available?\", cuda)\n",
        "\n",
        "    # For reproducibility\n",
        "    torch.manual_seed(SEED)\n",
        "\n",
        "    if cuda:\n",
        "        torch.cuda.manual_seed(SEED)\n",
        "\n",
        "    # dataloader arguments - something you'll fetch these from cmdprmt\n",
        "    dataloader_args = dict(shuffle=True, batch_size=batch_size, num_workers=workers, pin_memory=True) if cuda else dict(shuffle=True, batch_size=batch_size)\n",
        "\n",
        "    # Dataset and creating Train/Test Split\n",
        "    train = torchvision.datasets.CIFAR10('./data', train=True, download=True, transform=train_transforms)\n",
        "    test = torchvision.datasets.CIFAR10('./data', train=False, download=True, transform=test_transforms)\n",
        "\n",
        "    # train dataloader\n",
        "    trainloader = torch.utils.data.DataLoader(train, **dataloader_args)\n",
        "\n",
        "    # test dataloader\n",
        "    testloader = torch.utils.data.DataLoader(test, **dataloader_args)\n",
        "\n",
        "    classes = ('plane', 'car', 'bird', 'cat','deer', 'dog', 'frog', 'horse', 'ship', 'truck')\n",
        "    return classes,trainloader, testloader"
      ],
      "execution_count": 0,
      "outputs": []
    }
  ]
}