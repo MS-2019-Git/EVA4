{
  "nbformat": 4,
  "nbformat_minor": 0,
  "metadata": {
    "colab": {
      "name": "displayimages.ipynb",
      "provenance": [],
      "collapsed_sections": [],
      "authorship_tag": "ABX9TyM3SgUWwgW9MJ06W4tRNOCI",
      "include_colab_link": true
    },
    "kernelspec": {
      "name": "python3",
      "display_name": "Python 3"
    }
  },
  "cells": [
    {
      "cell_type": "markdown",
      "metadata": {
        "id": "view-in-github",
        "colab_type": "text"
      },
      "source": [
        "<a href=\"https://colab.research.google.com/github/MohuaSinha/EIP4/blob/master/S7/displayimages.ipynb\" target=\"_parent\"><img src=\"https://colab.research.google.com/assets/colab-badge.svg\" alt=\"Open In Colab\"/></a>"
      ]
    },
    {
      "cell_type": "code",
      "metadata": {
        "id": "BIVB_z9jCCjI",
        "colab_type": "code",
        "colab": {}
      },
      "source": [
        "import matplotlib.pyplot as plt\n",
        "import numpy as np\n",
        "import torch\n",
        "import torchvision\n",
        "\n",
        "# functions to show an image\n",
        "\n",
        "\n",
        "def imshow(img):\n",
        "    img = img / 2 + 0.5     # unnormalize\n",
        "    npimg = img.numpy()\n",
        "    plt.imshow(np.transpose(npimg, (1, 2, 0)))\n",
        "\n",
        "\n",
        "def show_random_image(dataset, classes):\n",
        "\n",
        "\t# get some random training images\n",
        "\tdataiter = iter(dataset)\n",
        "\timages, labels = dataiter.next()\n",
        "\n",
        "\timg_list = range(5, 10)\n",
        "\n",
        "\t# show images\n",
        "\tprint('shape:', images.shape)\n",
        "\timshow(torchvision.utils.make_grid(images[img_list]))\n",
        "\t# print labels\n",
        "\tprint(' '.join('%5s' % classes[labels[j]] for j in img_list))"
      ],
      "execution_count": 0,
      "outputs": []
    }
  ]
}