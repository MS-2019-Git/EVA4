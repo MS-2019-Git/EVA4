{
  "nbformat": 4,
  "nbformat_minor": 0,
  "metadata": {
    "colab": {
      "name": "S12_KMeans.ipynb",
      "provenance": [],
      "collapsed_sections": [],
      "include_colab_link": true
    },
    "kernelspec": {
      "name": "python3",
      "display_name": "Python 3"
    }
  },
  "cells": [
    {
      "cell_type": "markdown",
      "metadata": {
        "id": "view-in-github",
        "colab_type": "text"
      },
      "source": [
        "<a href=\"https://colab.research.google.com/github/MohuaSinha/EVA4/blob/master/S12/Assignment%20B/S12_KMeans.ipynb\" target=\"_parent\"><img src=\"https://colab.research.google.com/assets/colab-badge.svg\" alt=\"Open In Colab\"/></a>"
      ]
    },
    {
      "cell_type": "code",
      "metadata": {
        "id": "aRfdFrW_Zg7T",
        "colab_type": "code",
        "outputId": "e1857211-5a79-4b2f-ac65-2421921ee9ff",
        "colab": {
          "base_uri": "https://localhost:8080/",
          "height": 33
        }
      },
      "source": [
        "# mount gdrive and unzip data\n",
        "from google.colab import drive\n",
        "drive.mount('/content/gdrive')"
      ],
      "execution_count": 17,
      "outputs": [
        {
          "output_type": "stream",
          "text": [
            "Drive already mounted at /content/gdrive; to attempt to forcibly remount, call drive.mount(\"/content/gdrive\", force_remount=True).\n"
          ],
          "name": "stdout"
        }
      ]
    },
    {
      "cell_type": "code",
      "metadata": {
        "id": "Js1xqRmGZ03a",
        "colab_type": "code",
        "colab": {}
      },
      "source": [
        "import sys\n",
        "import os \n",
        "workingdir = '/content/gdrive/My Drive/Colab Notebooks/EVA4/S12'\n",
        "sys.path.append(workingdir)"
      ],
      "execution_count": 0,
      "outputs": []
    },
    {
      "cell_type": "code",
      "metadata": {
        "id": "cAz2fWfAa5Sd",
        "colab_type": "code",
        "colab": {}
      },
      "source": [
        "import numpy as np\n",
        "import pandas as pd\n",
        "import json\n",
        "from matplotlib import pyplot as plt\n",
        "from sklearn.datasets.samples_generator import make_blobs\n",
        "from sklearn.cluster import KMeans"
      ],
      "execution_count": 0,
      "outputs": []
    },
    {
      "cell_type": "code",
      "metadata": {
        "id": "CLGVEbuhveqc",
        "colab_type": "code",
        "outputId": "93f911f1-44fc-48b6-a98f-0bc27db89159",
        "colab": {
          "base_uri": "https://localhost:8080/",
          "height": 33
        }
      },
      "source": [
        "#Read COCO JSON File\n",
        "fptr = open('/content/gdrive/My Drive/Colab Notebooks/EVA4/S12/data/Annotations_via_export_coco.json')\n",
        "data = json.load(fptr)\n",
        "print(data.keys())"
      ],
      "execution_count": 20,
      "outputs": [
        {
          "output_type": "stream",
          "text": [
            "dict_keys(['info', 'images', 'annotations', 'licenses', 'categories'])\n"
          ],
          "name": "stdout"
        }
      ]
    },
    {
      "cell_type": "code",
      "metadata": {
        "id": "jQFKeSOqvf0R",
        "colab_type": "code",
        "colab": {}
      },
      "source": [
        "#Extract Details\n",
        "images_df = pd.DataFrame(data['images'], columns = data['images'][0].keys())\n",
        "annotations_df = pd.DataFrame(data['annotations'], columns = data['annotations'][0].keys())"
      ],
      "execution_count": 0,
      "outputs": []
    },
    {
      "cell_type": "code",
      "metadata": {
        "id": "H6v72mkjwFj1",
        "colab_type": "code",
        "outputId": "e44c45f6-c0de-4dcd-c332-e630247e8004",
        "colab": {
          "base_uri": "https://localhost:8080/",
          "height": 191
        }
      },
      "source": [
        "images_df.head()"
      ],
      "execution_count": 22,
      "outputs": [
        {
          "output_type": "execute_result",
          "data": {
            "text/html": [
              "<div>\n",
              "<style scoped>\n",
              "    .dataframe tbody tr th:only-of-type {\n",
              "        vertical-align: middle;\n",
              "    }\n",
              "\n",
              "    .dataframe tbody tr th {\n",
              "        vertical-align: top;\n",
              "    }\n",
              "\n",
              "    .dataframe thead th {\n",
              "        text-align: right;\n",
              "    }\n",
              "</style>\n",
              "<table border=\"1\" class=\"dataframe\">\n",
              "  <thead>\n",
              "    <tr style=\"text-align: right;\">\n",
              "      <th></th>\n",
              "      <th>id</th>\n",
              "      <th>width</th>\n",
              "      <th>height</th>\n",
              "      <th>file_name</th>\n",
              "      <th>license</th>\n",
              "      <th>date_captured</th>\n",
              "    </tr>\n",
              "  </thead>\n",
              "  <tbody>\n",
              "    <tr>\n",
              "      <th>0</th>\n",
              "      <td>0</td>\n",
              "      <td>236</td>\n",
              "      <td>354</td>\n",
              "      <td>1.jpg</td>\n",
              "      <td>1</td>\n",
              "      <td></td>\n",
              "    </tr>\n",
              "    <tr>\n",
              "      <th>1</th>\n",
              "      <td>1</td>\n",
              "      <td>500</td>\n",
              "      <td>889</td>\n",
              "      <td>2.jpg</td>\n",
              "      <td>1</td>\n",
              "      <td></td>\n",
              "    </tr>\n",
              "    <tr>\n",
              "      <th>2</th>\n",
              "      <td>2</td>\n",
              "      <td>500</td>\n",
              "      <td>333</td>\n",
              "      <td>3.jpg</td>\n",
              "      <td>1</td>\n",
              "      <td></td>\n",
              "    </tr>\n",
              "    <tr>\n",
              "      <th>3</th>\n",
              "      <td>3</td>\n",
              "      <td>500</td>\n",
              "      <td>667</td>\n",
              "      <td>4.jpg</td>\n",
              "      <td>1</td>\n",
              "      <td></td>\n",
              "    </tr>\n",
              "    <tr>\n",
              "      <th>4</th>\n",
              "      <td>4</td>\n",
              "      <td>500</td>\n",
              "      <td>332</td>\n",
              "      <td>5.jpg</td>\n",
              "      <td>1</td>\n",
              "      <td></td>\n",
              "    </tr>\n",
              "  </tbody>\n",
              "</table>\n",
              "</div>"
            ],
            "text/plain": [
              "   id  width  height file_name  license date_captured\n",
              "0   0    236     354     1.jpg        1              \n",
              "1   1    500     889     2.jpg        1              \n",
              "2   2    500     333     3.jpg        1              \n",
              "3   3    500     667     4.jpg        1              \n",
              "4   4    500     332     5.jpg        1              "
            ]
          },
          "metadata": {
            "tags": []
          },
          "execution_count": 22
        }
      ]
    },
    {
      "cell_type": "code",
      "metadata": {
        "id": "ZZLbCcyCwFd1",
        "colab_type": "code",
        "outputId": "573a900d-0e56-49e6-979c-e10a238ac1a9",
        "colab": {
          "base_uri": "https://localhost:8080/",
          "height": 191
        }
      },
      "source": [
        "annotations_df.head()"
      ],
      "execution_count": 23,
      "outputs": [
        {
          "output_type": "execute_result",
          "data": {
            "text/html": [
              "<div>\n",
              "<style scoped>\n",
              "    .dataframe tbody tr th:only-of-type {\n",
              "        vertical-align: middle;\n",
              "    }\n",
              "\n",
              "    .dataframe tbody tr th {\n",
              "        vertical-align: top;\n",
              "    }\n",
              "\n",
              "    .dataframe thead th {\n",
              "        text-align: right;\n",
              "    }\n",
              "</style>\n",
              "<table border=\"1\" class=\"dataframe\">\n",
              "  <thead>\n",
              "    <tr style=\"text-align: right;\">\n",
              "      <th></th>\n",
              "      <th>id</th>\n",
              "      <th>image_id</th>\n",
              "      <th>category_id</th>\n",
              "      <th>segmentation</th>\n",
              "      <th>area</th>\n",
              "      <th>bbox</th>\n",
              "      <th>iscrowd</th>\n",
              "    </tr>\n",
              "  </thead>\n",
              "  <tbody>\n",
              "    <tr>\n",
              "      <th>0</th>\n",
              "      <td>0</td>\n",
              "      <td>0</td>\n",
              "      <td>1</td>\n",
              "      <td>[21, 70, 104, 70, 104, 290, 21, 290]</td>\n",
              "      <td>18260</td>\n",
              "      <td>[21, 70, 83, 220]</td>\n",
              "      <td>0</td>\n",
              "    </tr>\n",
              "    <tr>\n",
              "      <th>1</th>\n",
              "      <td>1</td>\n",
              "      <td>1</td>\n",
              "      <td>1</td>\n",
              "      <td>[75, 284, 427, 284, 427, 856, 75, 856]</td>\n",
              "      <td>201344</td>\n",
              "      <td>[75, 284, 352, 572]</td>\n",
              "      <td>0</td>\n",
              "    </tr>\n",
              "    <tr>\n",
              "      <th>2</th>\n",
              "      <td>2</td>\n",
              "      <td>2</td>\n",
              "      <td>1</td>\n",
              "      <td>[194, 90, 402, 90, 402, 320, 194, 320]</td>\n",
              "      <td>47840</td>\n",
              "      <td>[194, 90, 208, 230]</td>\n",
              "      <td>0</td>\n",
              "    </tr>\n",
              "    <tr>\n",
              "      <th>3</th>\n",
              "      <td>3</td>\n",
              "      <td>3</td>\n",
              "      <td>1</td>\n",
              "      <td>[33, 200, 494, 200, 494, 666, 33, 666]</td>\n",
              "      <td>214826</td>\n",
              "      <td>[33, 200, 461, 466]</td>\n",
              "      <td>0</td>\n",
              "    </tr>\n",
              "    <tr>\n",
              "      <th>4</th>\n",
              "      <td>4</td>\n",
              "      <td>4</td>\n",
              "      <td>1</td>\n",
              "      <td>[185, 102, 363, 102, 363, 324, 185, 324]</td>\n",
              "      <td>39516</td>\n",
              "      <td>[185, 102, 178, 222]</td>\n",
              "      <td>0</td>\n",
              "    </tr>\n",
              "  </tbody>\n",
              "</table>\n",
              "</div>"
            ],
            "text/plain": [
              "   id image_id  category_id  ...    area                  bbox iscrowd\n",
              "0   0        0            1  ...   18260     [21, 70, 83, 220]       0\n",
              "1   1        1            1  ...  201344   [75, 284, 352, 572]       0\n",
              "2   2        2            1  ...   47840   [194, 90, 208, 230]       0\n",
              "3   3        3            1  ...  214826   [33, 200, 461, 466]       0\n",
              "4   4        4            1  ...   39516  [185, 102, 178, 222]       0\n",
              "\n",
              "[5 rows x 7 columns]"
            ]
          },
          "metadata": {
            "tags": []
          },
          "execution_count": 23
        }
      ]
    },
    {
      "cell_type": "code",
      "metadata": {
        "id": "W9L-5pvawZgi",
        "colab_type": "code",
        "colab": {}
      },
      "source": [
        "#Extract the Box Dimensions\n",
        "dogs_df = pd.concat([images_df, annotations_df], 1)[['file_name', 'width', 'height', 'bbox']]\n",
        "x_list = []\n",
        "y_list = []\n",
        "w_list = []\n",
        "h_list = [] \n",
        "for row in range(dogs_df.shape[0]):\n",
        "  x = dogs_df['bbox'][row][0]\n",
        "  y = dogs_df['bbox'][row][1]\n",
        "  w = dogs_df['bbox'][row][2]\n",
        "  h = dogs_df['bbox'][row][3]\n",
        "  x_list.append(x)\n",
        "  y_list.append(y)\n",
        "  w_list.append(w)\n",
        "  h_list.append(h)\n",
        "box_df = pd.DataFrame(list(zip(x_list, y_list, w_list, h_list)), columns =['x', 'y', 'box_width', 'box_height'])\n",
        "dogs_df = pd.concat([dogs_df, box_df], 1)\n",
        "dogs_df = dogs_df.drop('bbox', axis =1)"
      ],
      "execution_count": 0,
      "outputs": []
    },
    {
      "cell_type": "code",
      "metadata": {
        "id": "M2-VLtMZwoqO",
        "colab_type": "code",
        "outputId": "80294587-5bca-4183-f525-87ae131c5e89",
        "colab": {
          "base_uri": "https://localhost:8080/",
          "height": 191
        }
      },
      "source": [
        "dogs_df.head()"
      ],
      "execution_count": 25,
      "outputs": [
        {
          "output_type": "execute_result",
          "data": {
            "text/html": [
              "<div>\n",
              "<style scoped>\n",
              "    .dataframe tbody tr th:only-of-type {\n",
              "        vertical-align: middle;\n",
              "    }\n",
              "\n",
              "    .dataframe tbody tr th {\n",
              "        vertical-align: top;\n",
              "    }\n",
              "\n",
              "    .dataframe thead th {\n",
              "        text-align: right;\n",
              "    }\n",
              "</style>\n",
              "<table border=\"1\" class=\"dataframe\">\n",
              "  <thead>\n",
              "    <tr style=\"text-align: right;\">\n",
              "      <th></th>\n",
              "      <th>file_name</th>\n",
              "      <th>width</th>\n",
              "      <th>height</th>\n",
              "      <th>x</th>\n",
              "      <th>y</th>\n",
              "      <th>box_width</th>\n",
              "      <th>box_height</th>\n",
              "    </tr>\n",
              "  </thead>\n",
              "  <tbody>\n",
              "    <tr>\n",
              "      <th>0</th>\n",
              "      <td>1.jpg</td>\n",
              "      <td>236</td>\n",
              "      <td>354</td>\n",
              "      <td>21</td>\n",
              "      <td>70</td>\n",
              "      <td>83</td>\n",
              "      <td>220</td>\n",
              "    </tr>\n",
              "    <tr>\n",
              "      <th>1</th>\n",
              "      <td>2.jpg</td>\n",
              "      <td>500</td>\n",
              "      <td>889</td>\n",
              "      <td>75</td>\n",
              "      <td>284</td>\n",
              "      <td>352</td>\n",
              "      <td>572</td>\n",
              "    </tr>\n",
              "    <tr>\n",
              "      <th>2</th>\n",
              "      <td>3.jpg</td>\n",
              "      <td>500</td>\n",
              "      <td>333</td>\n",
              "      <td>194</td>\n",
              "      <td>90</td>\n",
              "      <td>208</td>\n",
              "      <td>230</td>\n",
              "    </tr>\n",
              "    <tr>\n",
              "      <th>3</th>\n",
              "      <td>4.jpg</td>\n",
              "      <td>500</td>\n",
              "      <td>667</td>\n",
              "      <td>33</td>\n",
              "      <td>200</td>\n",
              "      <td>461</td>\n",
              "      <td>466</td>\n",
              "    </tr>\n",
              "    <tr>\n",
              "      <th>4</th>\n",
              "      <td>5.jpg</td>\n",
              "      <td>500</td>\n",
              "      <td>332</td>\n",
              "      <td>185</td>\n",
              "      <td>102</td>\n",
              "      <td>178</td>\n",
              "      <td>222</td>\n",
              "    </tr>\n",
              "  </tbody>\n",
              "</table>\n",
              "</div>"
            ],
            "text/plain": [
              "  file_name  width  height    x    y  box_width  box_height\n",
              "0     1.jpg    236     354   21   70         83         220\n",
              "1     2.jpg    500     889   75  284        352         572\n",
              "2     3.jpg    500     333  194   90        208         230\n",
              "3     4.jpg    500     667   33  200        461         466\n",
              "4     5.jpg    500     332  185  102        178         222"
            ]
          },
          "metadata": {
            "tags": []
          },
          "execution_count": 25
        }
      ]
    },
    {
      "cell_type": "code",
      "metadata": {
        "id": "ofEdrLij3s44",
        "colab_type": "code",
        "colab": {}
      },
      "source": [
        "#Normalize the Box Dimensions based on Image Height and Width\n",
        "dogs_df['x'] = dogs_df['x'] / dogs_df['width']\n",
        "dogs_df['y'] = dogs_df['y'] / dogs_df['height']\n",
        "dogs_df['box_width'] = dogs_df['box_width'] / dogs_df['width']\n",
        "dogs_df['box_height'] = dogs_df['box_height'] / dogs_df['height']"
      ],
      "execution_count": 0,
      "outputs": []
    },
    {
      "cell_type": "code",
      "metadata": {
        "id": "oaCsfBhk4XDb",
        "colab_type": "code",
        "outputId": "d323483a-958e-4aca-f4de-77b4b65cadc6",
        "colab": {
          "base_uri": "https://localhost:8080/",
          "height": 191
        }
      },
      "source": [
        "dogs_df.head()"
      ],
      "execution_count": 27,
      "outputs": [
        {
          "output_type": "execute_result",
          "data": {
            "text/html": [
              "<div>\n",
              "<style scoped>\n",
              "    .dataframe tbody tr th:only-of-type {\n",
              "        vertical-align: middle;\n",
              "    }\n",
              "\n",
              "    .dataframe tbody tr th {\n",
              "        vertical-align: top;\n",
              "    }\n",
              "\n",
              "    .dataframe thead th {\n",
              "        text-align: right;\n",
              "    }\n",
              "</style>\n",
              "<table border=\"1\" class=\"dataframe\">\n",
              "  <thead>\n",
              "    <tr style=\"text-align: right;\">\n",
              "      <th></th>\n",
              "      <th>file_name</th>\n",
              "      <th>width</th>\n",
              "      <th>height</th>\n",
              "      <th>x</th>\n",
              "      <th>y</th>\n",
              "      <th>box_width</th>\n",
              "      <th>box_height</th>\n",
              "    </tr>\n",
              "  </thead>\n",
              "  <tbody>\n",
              "    <tr>\n",
              "      <th>0</th>\n",
              "      <td>1.jpg</td>\n",
              "      <td>236</td>\n",
              "      <td>354</td>\n",
              "      <td>0.088983</td>\n",
              "      <td>0.197740</td>\n",
              "      <td>0.351695</td>\n",
              "      <td>0.621469</td>\n",
              "    </tr>\n",
              "    <tr>\n",
              "      <th>1</th>\n",
              "      <td>2.jpg</td>\n",
              "      <td>500</td>\n",
              "      <td>889</td>\n",
              "      <td>0.150000</td>\n",
              "      <td>0.319460</td>\n",
              "      <td>0.704000</td>\n",
              "      <td>0.643420</td>\n",
              "    </tr>\n",
              "    <tr>\n",
              "      <th>2</th>\n",
              "      <td>3.jpg</td>\n",
              "      <td>500</td>\n",
              "      <td>333</td>\n",
              "      <td>0.388000</td>\n",
              "      <td>0.270270</td>\n",
              "      <td>0.416000</td>\n",
              "      <td>0.690691</td>\n",
              "    </tr>\n",
              "    <tr>\n",
              "      <th>3</th>\n",
              "      <td>4.jpg</td>\n",
              "      <td>500</td>\n",
              "      <td>667</td>\n",
              "      <td>0.066000</td>\n",
              "      <td>0.299850</td>\n",
              "      <td>0.922000</td>\n",
              "      <td>0.698651</td>\n",
              "    </tr>\n",
              "    <tr>\n",
              "      <th>4</th>\n",
              "      <td>5.jpg</td>\n",
              "      <td>500</td>\n",
              "      <td>332</td>\n",
              "      <td>0.370000</td>\n",
              "      <td>0.307229</td>\n",
              "      <td>0.356000</td>\n",
              "      <td>0.668675</td>\n",
              "    </tr>\n",
              "  </tbody>\n",
              "</table>\n",
              "</div>"
            ],
            "text/plain": [
              "  file_name  width  height         x         y  box_width  box_height\n",
              "0     1.jpg    236     354  0.088983  0.197740   0.351695    0.621469\n",
              "1     2.jpg    500     889  0.150000  0.319460   0.704000    0.643420\n",
              "2     3.jpg    500     333  0.388000  0.270270   0.416000    0.690691\n",
              "3     4.jpg    500     667  0.066000  0.299850   0.922000    0.698651\n",
              "4     5.jpg    500     332  0.370000  0.307229   0.356000    0.668675"
            ]
          },
          "metadata": {
            "tags": []
          },
          "execution_count": 27
        }
      ]
    },
    {
      "cell_type": "code",
      "metadata": {
        "id": "2qNVEgxJ5tK8",
        "colab_type": "code",
        "colab": {}
      },
      "source": [
        "hw_array = dogs_df[[\"box_width\", \"box_height\"]].to_numpy()"
      ],
      "execution_count": 0,
      "outputs": []
    },
    {
      "cell_type": "code",
      "metadata": {
        "id": "qxoqLwsr5xzk",
        "colab_type": "code",
        "outputId": "5ca1b592-675c-46a4-dde4-28cae3283d7e",
        "colab": {
          "base_uri": "https://localhost:8080/",
          "height": 33
        }
      },
      "source": [
        "hw_array.shape"
      ],
      "execution_count": 29,
      "outputs": [
        {
          "output_type": "execute_result",
          "data": {
            "text/plain": [
              "(50, 2)"
            ]
          },
          "metadata": {
            "tags": []
          },
          "execution_count": 29
        }
      ]
    },
    {
      "cell_type": "code",
      "metadata": {
        "id": "tAn-PzQs57M8",
        "colab_type": "code",
        "outputId": "f95f98e2-d838-44f8-ff39-a6d0f0c40455",
        "colab": {
          "base_uri": "https://localhost:8080/",
          "height": 281
        }
      },
      "source": [
        "plt.scatter(hw_array[:,0], hw_array[:,1])"
      ],
      "execution_count": 30,
      "outputs": [
        {
          "output_type": "execute_result",
          "data": {
            "text/plain": [
              "<matplotlib.collections.PathCollection at 0x7fd5dbb0d518>"
            ]
          },
          "metadata": {
            "tags": []
          },
          "execution_count": 30
        },
        {
          "output_type": "display_data",
          "data": {
            "image/png": "[encoded data removed]",
            "text/plain": [
              "<Figure size 432x288 with 1 Axes>"
            ]
          },
          "metadata": {
            "tags": [],
            "needs_background": "light"
          }
        }
      ]
    },
    {
      "cell_type": "code",
      "metadata": {
        "id": "SK_3xABC6DC_",
        "colab_type": "code",
        "outputId": "228f18b7-b310-4006-cb12-1f334d7071f3",
        "colab": {
          "base_uri": "https://localhost:8080/",
          "height": 295
        }
      },
      "source": [
        "#Elbow Method\n",
        "wcss = []\n",
        "for i in range(1, 11):\n",
        "    kmeans = KMeans(n_clusters=i, init='k-means++', max_iter=300, n_init=10, random_state=0)\n",
        "    kmeans.fit(hw_array)\n",
        "    wcss.append(kmeans.inertia_)\n",
        "plt.plot(range(1, 11), wcss)\n",
        "plt.title('Elbow Method')\n",
        "plt.xlabel('Number of clusters')\n",
        "plt.ylabel('WCSS')\n",
        "plt.show()"
      ],
      "execution_count": 31,
      "outputs": [
        {
          "output_type": "display_data",
          "data": {
            "image/png": "[encoded data removed]",
            "text/plain": [
              "<Figure size 432x288 with 1 Axes>"
            ]
          },
          "metadata": {
            "tags": [],
            "needs_background": "light"
          }
        }
      ]
    },
    {
      "cell_type": "code",
      "metadata": {
        "id": "hQY6lMzu7HzB",
        "colab_type": "code",
        "outputId": "14e2ae72-bd3a-4d4d-ce1f-575a63e04add",
        "colab": {
          "base_uri": "https://localhost:8080/",
          "height": 265
        }
      },
      "source": [
        "#Determine the optimal number of clusters\n",
        "kmeans = KMeans(n_clusters=5, init='k-means++', max_iter=300, n_init=10, random_state=0)\n",
        "pred_y = kmeans.fit_predict(hw_array)\n",
        "plt.scatter(hw_array[:,0], hw_array[:,1])\n",
        "plt.scatter(kmeans.cluster_centers_[:, 0], kmeans.cluster_centers_[:, 1], s=300, c='red')\n",
        "plt.show()"
      ],
      "execution_count": 32,
      "outputs": [
        {
          "output_type": "display_data",
          "data": {
            "image/png": "[encoded data removed]",
            "text/plain": [
              "<Figure size 432x288 with 1 Axes>"
            ]
          },
          "metadata": {
            "tags": [],
            "needs_background": "light"
          }
        }
      ]
    }
  ]
}