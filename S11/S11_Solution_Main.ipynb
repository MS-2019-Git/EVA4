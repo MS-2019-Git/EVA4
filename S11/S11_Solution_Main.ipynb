{
  "nbformat": 4,
  "nbformat_minor": 0,
  "metadata": {
    "kernelspec": {
      "name": "python3",
      "display_name": "Python 3"
    },
    "language_info": {
      "codemirror_mode": {
        "name": "ipython",
        "version": 3
      },
      "file_extension": ".py",
      "mimetype": "text/x-python",
      "name": "python",
      "nbconvert_exporter": "python",
      "pygments_lexer": "ipython3",
      "version": "3.6.6"
    },
    "colab": {
      "name": "S11_Solution_Main.ipynb",
      "provenance": [],
      "collapsed_sections": [],
      "include_colab_link": true
    },
    "accelerator": "GPU",
    "widgets": {
      "application/vnd.jupyter.widget-state+json": {
        "c2e474747638478bb1f17cae6c55a7ac": {
          "model_module": "@jupyter-widgets/controls",
          "model_name": "HBoxModel",
          "state": {
            "_view_name": "HBoxView",
            "_dom_classes": [],
            "_model_name": "HBoxModel",
            "_view_module": "@jupyter-widgets/controls",
            "_model_module_version": "1.5.0",
            "_view_count": null,
            "_view_module_version": "1.5.0",
            "box_style": "",
            "layout": "IPY_MODEL_8637c8b37645441591a049fa6cb01c81",
            "_model_module": "@jupyter-widgets/controls",
            "children": [
              "IPY_MODEL_5fffb73480d84fba9600dead36b0638e",
              "IPY_MODEL_dd326c1900e5409c82e5a807f5b9430b"
            ]
          }
        },
        "8637c8b37645441591a049fa6cb01c81": {
          "model_module": "@jupyter-widgets/base",
          "model_name": "LayoutModel",
          "state": {
            "_view_name": "LayoutView",
            "grid_template_rows": null,
            "right": null,
            "justify_content": null,
            "_view_module": "@jupyter-widgets/base",
            "overflow": null,
            "_model_module_version": "1.2.0",
            "_view_count": null,
            "flex_flow": null,
            "width": null,
            "min_width": null,
            "border": null,
            "align_items": null,
            "bottom": null,
            "_model_module": "@jupyter-widgets/base",
            "top": null,
            "grid_column": null,
            "overflow_y": null,
            "overflow_x": null,
            "grid_auto_flow": null,
            "grid_area": null,
            "grid_template_columns": null,
            "flex": null,
            "_model_name": "LayoutModel",
            "justify_items": null,
            "grid_row": null,
            "max_height": null,
            "align_content": null,
            "visibility": null,
            "align_self": null,
            "height": null,
            "min_height": null,
            "padding": null,
            "grid_auto_rows": null,
            "grid_gap": null,
            "max_width": null,
            "order": null,
            "_view_module_version": "1.2.0",
            "grid_template_areas": null,
            "object_position": null,
            "object_fit": null,
            "grid_auto_columns": null,
            "margin": null,
            "display": null,
            "left": null
          }
        },
        "5fffb73480d84fba9600dead36b0638e": {
          "model_module": "@jupyter-widgets/controls",
          "model_name": "IntProgressModel",
          "state": {
            "_view_name": "ProgressView",
            "style": "IPY_MODEL_072a235328d9401f9a3e469db0752f6e",
            "_dom_classes": [],
            "description": "100%",
            "_model_name": "IntProgressModel",
            "bar_style": "success",
            "max": 50,
            "_view_module": "@jupyter-widgets/controls",
            "_model_module_version": "1.5.0",
            "value": 50,
            "_view_count": null,
            "_view_module_version": "1.5.0",
            "orientation": "horizontal",
            "min": 0,
            "description_tooltip": null,
            "_model_module": "@jupyter-widgets/controls",
            "layout": "IPY_MODEL_7afd0debc9ce43cd956101d0ba552a46"
          }
        },
        "dd326c1900e5409c82e5a807f5b9430b": {
          "model_module": "@jupyter-widgets/controls",
          "model_name": "HTMLModel",
          "state": {
            "_view_name": "HTMLView",
            "style": "IPY_MODEL_c2f1c279063f4dba84bf9dd964bec20f",
            "_dom_classes": [],
            "description": "",
            "_model_name": "HTMLModel",
            "placeholder": "​",
            "_view_module": "@jupyter-widgets/controls",
            "_model_module_version": "1.5.0",
            "value": " 50/50 [15:37&lt;00:00, 18.74s/it]",
            "_view_count": null,
            "_view_module_version": "1.5.0",
            "description_tooltip": null,
            "_model_module": "@jupyter-widgets/controls",
            "layout": "IPY_MODEL_b8fa22bcb66c40cd82ce9699a6fe58b9"
          }
        },
        "072a235328d9401f9a3e469db0752f6e": {
          "model_module": "@jupyter-widgets/controls",
          "model_name": "ProgressStyleModel",
          "state": {
            "_view_name": "StyleView",
            "_model_name": "ProgressStyleModel",
            "description_width": "initial",
            "_view_module": "@jupyter-widgets/base",
            "_model_module_version": "1.5.0",
            "_view_count": null,
            "_view_module_version": "1.2.0",
            "bar_color": null,
            "_model_module": "@jupyter-widgets/controls"
          }
        },
        "7afd0debc9ce43cd956101d0ba552a46": {
          "model_module": "@jupyter-widgets/base",
          "model_name": "LayoutModel",
          "state": {
            "_view_name": "LayoutView",
            "grid_template_rows": null,
            "right": null,
            "justify_content": null,
            "_view_module": "@jupyter-widgets/base",
            "overflow": null,
            "_model_module_version": "1.2.0",
            "_view_count": null,
            "flex_flow": null,
            "width": null,
            "min_width": null,
            "border": null,
            "align_items": null,
            "bottom": null,
            "_model_module": "@jupyter-widgets/base",
            "top": null,
            "grid_column": null,
            "overflow_y": null,
            "overflow_x": null,
            "grid_auto_flow": null,
            "grid_area": null,
            "grid_template_columns": null,
            "flex": null,
            "_model_name": "LayoutModel",
            "justify_items": null,
            "grid_row": null,
            "max_height": null,
            "align_content": null,
            "visibility": null,
            "align_self": null,
            "height": null,
            "min_height": null,
            "padding": null,
            "grid_auto_rows": null,
            "grid_gap": null,
            "max_width": null,
            "order": null,
            "_view_module_version": "1.2.0",
            "grid_template_areas": null,
            "object_position": null,
            "object_fit": null,
            "grid_auto_columns": null,
            "margin": null,
            "display": null,
            "left": null
          }
        },
        "c2f1c279063f4dba84bf9dd964bec20f": {
          "model_module": "@jupyter-widgets/controls",
          "model_name": "DescriptionStyleModel",
          "state": {
            "_view_name": "StyleView",
            "_model_name": "DescriptionStyleModel",
            "description_width": "",
            "_view_module": "@jupyter-widgets/base",
            "_model_module_version": "1.5.0",
            "_view_count": null,
            "_view_module_version": "1.2.0",
            "_model_module": "@jupyter-widgets/controls"
          }
        },
        "b8fa22bcb66c40cd82ce9699a6fe58b9": {
          "model_module": "@jupyter-widgets/base",
          "model_name": "LayoutModel",
          "state": {
            "_view_name": "LayoutView",
            "grid_template_rows": null,
            "right": null,
            "justify_content": null,
            "_view_module": "@jupyter-widgets/base",
            "overflow": null,
            "_model_module_version": "1.2.0",
            "_view_count": null,
            "flex_flow": null,
            "width": null,
            "min_width": null,
            "border": null,
            "align_items": null,
            "bottom": null,
            "_model_module": "@jupyter-widgets/base",
            "top": null,
            "grid_column": null,
            "overflow_y": null,
            "overflow_x": null,
            "grid_auto_flow": null,
            "grid_area": null,
            "grid_template_columns": null,
            "flex": null,
            "_model_name": "LayoutModel",
            "justify_items": null,
            "grid_row": null,
            "max_height": null,
            "align_content": null,
            "visibility": null,
            "align_self": null,
            "height": null,
            "min_height": null,
            "padding": null,
            "grid_auto_rows": null,
            "grid_gap": null,
            "max_width": null,
            "order": null,
            "_view_module_version": "1.2.0",
            "grid_template_areas": null,
            "object_position": null,
            "object_fit": null,
            "grid_auto_columns": null,
            "margin": null,
            "display": null,
            "left": null
          }
        }
      }
    }
  },
  "cells": [
    {
      "cell_type": "markdown",
      "metadata": {
        "id": "view-in-github",
        "colab_type": "text"
      },
      "source": [
        "<a href=\"https://colab.research.google.com/github/MohuaSinha/EVA4/blob/master/S11/S11_Solution_Main.ipynb\" target=\"_parent\"><img src=\"https://colab.research.google.com/assets/colab-badge.svg\" alt=\"Open In Colab\"/></a>"
      ]
    },
    {
      "cell_type": "code",
      "metadata": {
        "id": "QVbdg0z4poCc",
        "colab_type": "code",
        "outputId": "c321ba7b-54f1-4dd1-ad16-72b8306a83f6",
        "colab": {
          "base_uri": "https://localhost:8080/",
          "height": 118
        }
      },
      "source": [
        "# mount gdrive and unzip data\n",
        "from google.colab import drive\n",
        "drive.mount('/content/gdrive')"
      ],
      "execution_count": 1,
      "outputs": [
        {
          "output_type": "stream",
          "text": [
            "Go to this URL in a browser: https://accounts.google.com/o/oauth2/auth?client_id=947318989803-6bn6qk8qdgf4n4g3pfee6491hc0brc4i.apps.googleusercontent.com&redirect_uri=urn%3aietf%3awg%3aoauth%3a2.0%3aoob&response_type=code&scope=email%20https%3a%2f%2fwww.googleapis.com%2fauth%2fdocs.test%20https%3a%2f%2fwww.googleapis.com%2fauth%2fdrive%20https%3a%2f%2fwww.googleapis.com%2fauth%2fdrive.photos.readonly%20https%3a%2f%2fwww.googleapis.com%2fauth%2fpeopleapi.readonly\n",
            "\n",
            "Enter your authorization code:\n",
            "··········\n",
            "Mounted at /content/gdrive\n"
          ],
          "name": "stdout"
        }
      ]
    },
    {
      "cell_type": "code",
      "metadata": {
        "id": "UVTbdYNfI2Z0",
        "colab_type": "code",
        "outputId": "f83ad783-0415-401f-b0c3-3fcd0df7dd96",
        "colab": {
          "base_uri": "https://localhost:8080/",
          "height": 33
        }
      },
      "source": [
        "%cd \"//content/gdrive/My Drive/Colab Notebooks/EVA4/Mou_Library\"\n",
        "import sys\n",
        "workingdir = '/content/gdrive/My Drive/Colab Notebooks/EVA4/Mou_Library'\n",
        "sys.path.append(workingdir)"
      ],
      "execution_count": 2,
      "outputs": [
        {
          "output_type": "stream",
          "text": [
            "/content/gdrive/My Drive/Colab Notebooks/EVA4/Mou_Library\n"
          ],
          "name": "stdout"
        }
      ]
    },
    {
      "cell_type": "code",
      "metadata": {
        "id": "l3mbpJgDLO7g",
        "colab_type": "code",
        "outputId": "cd1af3de-4ffc-4b5f-8109-9e8cfb961dcd",
        "colab": {
          "base_uri": "https://localhost:8080/",
          "height": 423
        }
      },
      "source": [
        "ls-ltr"
      ],
      "execution_count": 3,
      "outputs": [
        {
          "output_type": "stream",
          "text": [
            "total 1492\n",
            "drwx------ 2 root root   4096 Mar 14 15:38 \u001b[0m\u001b[01;34mdata\u001b[0m/\n",
            "drwx------ 2 root root   4096 Mar 19 07:16 \u001b[01;34m__pycache__\u001b[0m/\n",
            "-rw------- 1 root root    791 Apr  4 20:51 displayimages.py\n",
            "-rw------- 1 root root   2515 Apr  4 20:51 showimages.py\n",
            "-rw------- 1 root root   1777 Apr  4 20:51 utils.py\n",
            "-rw------- 1 root root   6998 Apr  4 20:51 train_test.py\n",
            "-rw------- 1 root root   1125 Apr  4 20:51 plotresults.py\n",
            "-rw------- 1 root root  19174 Apr  4 20:51 lr_finder.py\n",
            "-rw------- 1 root root   9276 Apr  4 20:51 dnnmodel.py\n",
            "-rw------- 1 root root   2826 Apr  5 14:38 gradcam.py\n",
            "-rw------- 1 root root   3793 Apr  5 19:04 grad_visualize.py\n",
            "-rw------- 1 root root  35667 Apr  5 20:28 gradcam_incorrect_0_tplane_ptruck.png\n",
            "-rw------- 1 root root  39075 Apr  5 20:28 gradcam_incorrect_4_tbird_pplane.png\n",
            "-rw------- 1 root root  38528 Apr  5 20:28 gradcam_incorrect_3_tbird_pcat.png\n",
            "-rw------- 1 root root  40367 Apr  5 20:28 gradcam_incorrect_2_tplane_pbird.png\n",
            "-rw------- 1 root root  42045 Apr  5 20:28 gradcam_incorrect_1_ttruck_pcar.png\n",
            "-rw------- 1 root root 354250 Apr  5 20:30 gradcam_incorrect.png\n",
            "-rw------- 1 root root 876987 Apr  5 20:31 S10_Solution_Main.ipynb\n",
            "-rw------- 1 root root   5814 Apr 11 18:58 datatransformation.py\n",
            "-rw------- 1 root root    735 Apr 11 18:58 config.py\n",
            "-rw------- 1 root root   3384 Apr 11 18:58 clr.py\n",
            "-rw------- 1 root root   2901 Apr 11 19:07 custom_resnet.py\n",
            "-rw------- 1 root root  12810 Apr 11 19:12 lr_range_test.py\n",
            "-rw------- 1 root root  13124 Apr 11 19:50 accuracy_change.png\n"
          ],
          "name": "stdout"
        }
      ]
    },
    {
      "cell_type": "markdown",
      "metadata": {
        "id": "fPogbueepoCh",
        "colab_type": "text"
      },
      "source": [
        "\n",
        "Training a Classifier\n",
        "=====================\n",
        "\n",
        "This is it. You have seen how to define neural networks, compute loss and make\n",
        "updates to the weights of the network.\n",
        "\n",
        "Now you might be thinking,\n",
        "\n",
        "What about data?\n",
        "----------------\n",
        "\n",
        "Generally, when you have to deal with image, text, audio or video data,\n",
        "you can use standard python packages that load data into a numpy array.\n",
        "Then you can convert this array into a ``torch.*Tensor``.\n",
        "\n",
        "-  For images, packages such as Pillow, OpenCV are useful\n",
        "-  For audio, packages such as scipy and librosa\n",
        "-  For text, either raw Python or Cython based loading, or NLTK and\n",
        "   SpaCy are useful\n",
        "\n",
        "Specifically for vision, we have created a package called\n",
        "``torchvision``, that has data loaders for common datasets such as\n",
        "Imagenet, CIFAR10, MNIST, etc. and data transformers for images, viz.,\n",
        "``torchvision.datasets`` and ``torch.utils.data.DataLoader``.\n",
        "\n",
        "This provides a huge convenience and avoids writing boilerplate code.\n",
        "\n",
        "For this tutorial, we will use the CIFAR10 dataset.\n",
        "It has the classes: ‘airplane’, ‘automobile’, ‘bird’, ‘cat’, ‘deer’,\n",
        "‘dog’, ‘frog’, ‘horse’, ‘ship’, ‘truck’. The images in CIFAR-10 are of\n",
        "size 3x32x32, i.e. 3-channel color images of 32x32 pixels in size.\n",
        "\n",
        ".. figure:: /_static/img/cifar10.png\n",
        "   :alt: cifar10\n",
        "\n",
        "   cifar10\n",
        "\n",
        "\n",
        "Training an image classifier\n",
        "----------------------------\n",
        "\n",
        "We will do the following steps in order:\n",
        "\n",
        "1. Load and normalizing the CIFAR10 training and test datasets using\n",
        "   ``torchvision``\n",
        "2. Define a Convolution Neural Network\n",
        "3. Define a loss function\n",
        "4. Train the network on the training data\n",
        "5. Test the network on the test data\n",
        "\n",
        "1. Loading and normalizing CIFAR10\n",
        "^^^^^^^^^^^^^^^^^^^^^^^^^^^^^^^^^^\n",
        "\n",
        "Using ``torchvision``, it’s extremely easy to load CIFAR10.\n",
        "\n"
      ]
    },
    {
      "cell_type": "code",
      "metadata": {
        "id": "-yVpodAMpoCi",
        "colab_type": "code",
        "outputId": "2a2eb26b-28f0-400d-b906-2400be3c8a0a",
        "colab": {
          "base_uri": "https://localhost:8080/",
          "height": 66
        }
      },
      "source": [
        "#!pip install import-ipynb\n",
        "#import import_ipynb\n",
        "#from __future__ import print_function\n",
        "import torch\n",
        "import torchvision\n",
        "import torch.nn as nn\n",
        "import torch.nn.functional as F\n",
        "import torch.optim as optim\n",
        "from torchvision import datasets, transforms\n",
        "!pip install torchsummary\n",
        "from torchsummary import summary\n",
        "from tqdm import tqdm\n",
        "import torch.nn as nn\n",
        "import torch.optim as optim\n",
        "from torch.optim.lr_scheduler import StepLR,OneCycleLR\n",
        "\n",
        "\n",
        "%matplotlib inline\n",
        "import matplotlib.pyplot as plt\n",
        "from torchvision.transforms import ToPILImage\n",
        "from config import ModelConfig\n",
        "import os\n",
        "\n",
        "#Below are the created modules\n",
        "import dnnmodel\n",
        "import custom_resnet\n",
        "import train_test\n",
        "import datatransformation \n",
        "import showimages\n",
        "import displayimages\n",
        "import  gradcam \n",
        "import grad_visualize \n",
        "import lr_finder\n",
        "import lr_range_test\n",
        "from clr import CyclicLR\n",
        "from utils import *\n",
        "import plotresults\n",
        "from torch.optim.lr_scheduler import StepLR"
      ],
      "execution_count": 4,
      "outputs": [
        {
          "output_type": "stream",
          "text": [
            "Requirement already satisfied: torchsummary in /usr/local/lib/python3.6/dist-packages (1.5.1)\n"
          ],
          "name": "stdout"
        },
        {
          "output_type": "stream",
          "text": [
            "WARNING:lr_finder:To enable mixed precision training, please install `apex`. Or you can re-install this package by the following command:\n",
            "  pip install torch-lr-finder -v --global-option=\"amp\"\n"
          ],
          "name": "stderr"
        }
      ]
    },
    {
      "cell_type": "markdown",
      "metadata": {
        "id": "czrZVjvkwiEl",
        "colab_type": "text"
      },
      "source": [
        "**Model Configuration and set SEED**"
      ]
    },
    {
      "cell_type": "code",
      "metadata": {
        "id": "ZbMenWPdwSKi",
        "colab_type": "code",
        "outputId": "a9e63f3a-7291-4d0c-d41a-61181fafd2f6",
        "colab": {
          "base_uri": "https://localhost:8080/",
          "height": 212
        }
      },
      "source": [
        "#### View model config\n",
        "args = ModelConfig()\n",
        "args.print_config()\n",
        "\n",
        "print()\n",
        "#### Set seed\n",
        "#init_seed(args)"
      ],
      "execution_count": 5,
      "outputs": [
        {
          "output_type": "stream",
          "text": [
            "Model Parameters:\n",
            "{ 'batch_size_cpu': 512,\n",
            "  'batch_size_cuda': 512,\n",
            "  'dropout': 0,\n",
            "  'epochs': 24,\n",
            "  'l1_decay': 3e-06,\n",
            "  'l2_decay': 0.001,\n",
            "  'lr': 0.001,\n",
            "  'momentum': 0.9,\n",
            "  'num_workers': 4,\n",
            "  'seed': 1}\n",
            "\n"
          ],
          "name": "stdout"
        }
      ]
    },
    {
      "cell_type": "markdown",
      "metadata": {
        "id": "5kjt4e2TpoCk",
        "colab_type": "text"
      },
      "source": [
        "The output of torchvision datasets are PILImage images of range [0, 1].\n",
        "We transform them to Tensors of normalized range [-1, 1].\n",
        "\n"
      ]
    },
    {
      "cell_type": "code",
      "metadata": {
        "id": "D8Tjigo2poCl",
        "colab_type": "code",
        "colab": {}
      },
      "source": [
        "#train_transforms,test_transforms= datatransformation.load()\n",
        "train_transforms , test_transforms=datatransformation.AlbumentationWrapper('train'), datatransformation.AlbumentationWrapper('test')"
      ],
      "execution_count": 0,
      "outputs": []
    },
    {
      "cell_type": "code",
      "metadata": {
        "id": "64PKruNSPLj7",
        "colab_type": "code",
        "outputId": "5ed3ed6c-b7ba-4557-d1fc-3ee56de2dbcb",
        "colab": {
          "base_uri": "https://localhost:8080/",
          "height": 66
        }
      },
      "source": [
        "classes,trainloader, testloader = datatransformation.dataloaders(1, 512, 10, train_transforms , test_transforms)"
      ],
      "execution_count": 7,
      "outputs": [
        {
          "output_type": "stream",
          "text": [
            "CUDA Available? True\n",
            "Files already downloaded and verified\n",
            "Files already downloaded and verified\n"
          ],
          "name": "stdout"
        }
      ]
    },
    {
      "cell_type": "markdown",
      "metadata": {
        "id": "_cj433rtpoCn",
        "colab_type": "text"
      },
      "source": [
        "Let us show some of the training images, for fun.\n",
        "\n"
      ]
    },
    {
      "cell_type": "code",
      "metadata": {
        "id": "daA7bADhpoCo",
        "colab_type": "code",
        "outputId": "94ed679d-6403-40f6-c65a-66a7c471963e",
        "colab": {
          "base_uri": "https://localhost:8080/",
          "height": 153
        }
      },
      "source": [
        "displayimages.show_random_image(trainloader,classes)"
      ],
      "execution_count": 8,
      "outputs": [
        {
          "output_type": "stream",
          "text": [
            "shape: torch.Size([512, 3, 32, 32])\n",
            "  cat truck truck   cat   cat\n"
          ],
          "name": "stdout"
        },
        {
          "output_type": "display_data",
          "data": {
            "image/png": "[encoded data removed]",
            "text/plain": [
              "<Figure size 432x288 with 1 Axes>"
            ]
          },
          "metadata": {
            "tags": [],
            "needs_background": "light"
          }
        }
      ]
    },
    {
      "cell_type": "markdown",
      "metadata": {
        "id": "28OpHA_LpoCq",
        "colab_type": "text"
      },
      "source": [
        "2. Define a Convolution Neural Network\n",
        "^^^^^^^^^^^^^^^^^^^^^^^^^^^^^^^^^^^^^^\n",
        "Copy the neural network from the Neural Networks section before and modify it to\n",
        "take 3-channel images (instead of 1-channel images as it was defined).\n",
        "\n"
      ]
    },
    {
      "cell_type": "code",
      "metadata": {
        "id": "0jjLwLLQpoCr",
        "colab_type": "code",
        "outputId": "67e6706b-02cb-406d-e335-4a0f3607f8a2",
        "colab": {
          "base_uri": "https://localhost:8080/",
          "height": 830
        }
      },
      "source": [
        "!pip install torchsummary\n",
        "from torchsummary import summary\n",
        "\n",
        "device = which_device()\n",
        "model = custom_resnet.NetCifar10()\n",
        "use_cuda = torch.cuda.is_available()\n",
        "model.device = torch.device(\"cuda\" if use_cuda else \"cpu\")\n",
        "model.to(model.device)\n",
        "print(model.device)\n",
        "summary(model, input_size=(3, 32, 32))"
      ],
      "execution_count": 9,
      "outputs": [
        {
          "output_type": "stream",
          "text": [
            "Requirement already satisfied: torchsummary in /usr/local/lib/python3.6/dist-packages (1.5.1)\n",
            "cuda\n",
            "----------------------------------------------------------------\n",
            "        Layer (type)               Output Shape         Param #\n",
            "================================================================\n",
            "            Conv2d-1           [-1, 64, 32, 32]           1,728\n",
            "       BatchNorm2d-2           [-1, 64, 32, 32]             128\n",
            "              ReLU-3           [-1, 64, 32, 32]               0\n",
            "        LayerBlock-4           [-1, 64, 32, 32]               0\n",
            "            Conv2d-5          [-1, 128, 32, 32]          73,728\n",
            "         MaxPool2d-6          [-1, 128, 16, 16]               0\n",
            "       BatchNorm2d-7          [-1, 128, 16, 16]             256\n",
            "              ReLU-8          [-1, 128, 16, 16]               0\n",
            "            Conv2d-9          [-1, 128, 16, 16]         147,456\n",
            "      BatchNorm2d-10          [-1, 128, 16, 16]             256\n",
            "             ReLU-11          [-1, 128, 16, 16]               0\n",
            "           Conv2d-12          [-1, 128, 16, 16]         147,456\n",
            "      BatchNorm2d-13          [-1, 128, 16, 16]             256\n",
            "             ReLU-14          [-1, 128, 16, 16]               0\n",
            "         ResBlock-15          [-1, 128, 16, 16]               0\n",
            "       LayerBlock-16          [-1, 128, 16, 16]               0\n",
            "           Conv2d-17          [-1, 256, 16, 16]         294,912\n",
            "        MaxPool2d-18            [-1, 256, 8, 8]               0\n",
            "      BatchNorm2d-19            [-1, 256, 8, 8]             512\n",
            "             ReLU-20            [-1, 256, 8, 8]               0\n",
            "       LayerBlock-21            [-1, 256, 8, 8]               0\n",
            "           Conv2d-22            [-1, 512, 8, 8]       1,179,648\n",
            "        MaxPool2d-23            [-1, 512, 4, 4]               0\n",
            "      BatchNorm2d-24            [-1, 512, 4, 4]           1,024\n",
            "             ReLU-25            [-1, 512, 4, 4]               0\n",
            "           Conv2d-26            [-1, 512, 4, 4]       2,359,296\n",
            "      BatchNorm2d-27            [-1, 512, 4, 4]           1,024\n",
            "             ReLU-28            [-1, 512, 4, 4]               0\n",
            "           Conv2d-29            [-1, 512, 4, 4]       2,359,296\n",
            "      BatchNorm2d-30            [-1, 512, 4, 4]           1,024\n",
            "             ReLU-31            [-1, 512, 4, 4]               0\n",
            "         ResBlock-32            [-1, 512, 4, 4]               0\n",
            "       LayerBlock-33            [-1, 512, 4, 4]               0\n",
            "        MaxPool2d-34            [-1, 512, 1, 1]               0\n",
            "           Linear-35                   [-1, 10]           5,120\n",
            "================================================================\n",
            "Total params: 6,573,120\n",
            "Trainable params: 6,573,120\n",
            "Non-trainable params: 0\n",
            "----------------------------------------------------------------\n",
            "Input size (MB): 0.01\n",
            "Forward/backward pass size (MB): 7.69\n",
            "Params size (MB): 25.07\n",
            "Estimated Total Size (MB): 32.78\n",
            "----------------------------------------------------------------\n"
          ],
          "name": "stdout"
        }
      ]
    },
    {
      "cell_type": "markdown",
      "metadata": {
        "id": "5Cw9EjVvI_eQ",
        "colab_type": "text"
      },
      "source": [
        "**LR FINDER**"
      ]
    },
    {
      "cell_type": "code",
      "metadata": {
        "id": "WAESWJp1TD5f",
        "colab_type": "code",
        "outputId": "80f15420-fb0b-4c27-9db3-3c4ca52da92c",
        "colab": {
          "base_uri": "https://localhost:8080/",
          "height": 363,
          "referenced_widgets": [
            "c2e474747638478bb1f17cae6c55a7ac",
            "8637c8b37645441591a049fa6cb01c81",
            "5fffb73480d84fba9600dead36b0638e",
            "dd326c1900e5409c82e5a807f5b9430b",
            "072a235328d9401f9a3e469db0752f6e",
            "7afd0debc9ce43cd956101d0ba552a46",
            "c2f1c279063f4dba84bf9dd964bec20f",
            "b8fa22bcb66c40cd82ce9699a6fe58b9"
          ]
        }
      },
      "source": [
        "#criterion = nn.CrossEntropyLoss()\n",
        "weight_decay = 5e-4\n",
        "\n",
        "criterion = nn.NLLLoss()\n",
        "optimizer = optim.SGD(model.parameters(), lr=args.lr, momentum=args.momentum)\n",
        "lr_finder = lr_range_test.LRRangeFinder(model, optimizer, criterion, device=device)\n",
        "lr_finder.range_test(trainloader, testloader, start_lr=1e-4, end_lr=0.02,epochs=50, step_mode=\"linear\")\n",
        "lr_finder.plot(metric='acc', skip_start=10, skip_end=0)\n",
        "lr_finder.reset()"
      ],
      "execution_count": 10,
      "outputs": [
        {
          "output_type": "display_data",
          "data": {
            "application/vnd.jupyter.widget-view+json": {
              "model_id": "c2e474747638478bb1f17cae6c55a7ac",
              "version_minor": 0,
              "version_major": 2
            },
            "text/plain": [
              "HBox(children=(IntProgress(value=0, max=50), HTML(value='')))"
            ]
          },
          "metadata": {
            "tags": []
          }
        },
        {
          "output_type": "stream",
          "text": [
            "\n",
            "Learning rate search finished. See the graph with {finder_name}.plot()\n"
          ],
          "name": "stdout"
        },
        {
          "output_type": "display_data",
          "data": {
            "image/png": "[encoded data removed]",
            "text/plain": [
              "<Figure size 432x288 with 1 Axes>"
            ]
          },
          "metadata": {
            "tags": [],
            "needs_background": "light"
          }
        }
      ]
    },
    {
      "cell_type": "code",
      "metadata": {
        "id": "to4wEItKDCTf",
        "colab_type": "code",
        "outputId": "412d2cd6-8258-43bf-ec85-b7bceb46558c",
        "colab": {
          "base_uri": "https://localhost:8080/",
          "height": 66
        }
      },
      "source": [
        "best_acc = lr_finder.best_acc\n",
        "best_loss = lr_finder.best_loss\n",
        "best_lr = lr_finder.history[\"lr\"][lr_finder.history[\"acc\"].index(best_acc)]\n",
        "print(\"Best Accuracy: %s\\nBest Learning Rate: %s\" % (best_acc, best_lr))\n",
        "print(\"Best Loss: %s\" % (best_loss))\n",
        "args.lr = best_lr"
      ],
      "execution_count": 11,
      "outputs": [
        {
          "output_type": "stream",
          "text": [
            "Best Accuracy: 86.03\n",
            "Best Learning Rate: 0.018810061224489794\n",
            "Best Loss: 0.001105083116889\n"
          ],
          "name": "stdout"
        }
      ]
    },
    {
      "cell_type": "code",
      "metadata": {
        "id": "vevbNhi5CBlR",
        "colab_type": "code",
        "colab": {
          "base_uri": "https://localhost:8080/",
          "height": 115
        },
        "outputId": "d9eb3ed4-43d1-4121-a03b-7579be9a0a69"
      },
      "source": [
        "import torch.nn as nn\n",
        "import torch.optim as optim\n",
        "from torch.optim.lr_scheduler import StepLR\n",
        "criterion = nn.CrossEntropyLoss()\n",
        "\n",
        "from torch.optim.lr_scheduler import ReduceLROnPlateau\n",
        "\n",
        "#initial_lr = 0.001\n",
        "max_lr = best_lr\n",
        "min_lr = max_lr * 0.01\n",
        "\n",
        "EPOCHS = 24\n",
        "steps_per_epoch = len(trainloader)\n",
        "num_steps = steps_per_epoch * EPOCHS\n",
        "peak_lr_epoch = 5 \n",
        "pct_start = float (peak_lr_epoch/EPOCHS)\n",
        "div_factor = float (max_lr/initial_lr)\n",
        "final_div_factor = float (initial_lr/min_lr)\n",
        "\n",
        "print(\"maxlr: \", max_lr)\n",
        "print(\"epochs: \", EPOCHS)\n",
        "print(\"steps_per_epoch: \", steps_per_epoch)\n",
        "print(\"pct_start: \", pct_start)\n",
        "print(\"div_factor: \", div_factor)\n",
        "print(\"final_div_factor: \", final_div_factor)\n",
        "\n",
        "#torch.optim.lr_scheduler.OneCycleLR(optimizer, max_lr, total_steps=None, epochs=None, steps_per_epoch=None, pct_start=0.3, anneal_strategy='cos', cycle_momentum=True, base_momentum=0.85, max_momentum=0.95, div_factor=25.0, final_div_factor=10000.0, last_epoch=-1)\n",
        "\n",
        "optimizer = optim.SGD(model.parameters(), lr=max_lr, momentum=0.9)\n",
        "#optimizer = optim.SGD(model.parameters(), lr=args.lr, momentum=args.momentum)\n",
        "#scheduler = OneCycleLR(optimizer, max_lr=best_lr, steps_per_epoch=len(trainloader),epochs=args.epochs, div_factor=10, final_div_factor=1,\n",
        "                      # pct_start=5/args.epochs, anneal_strategy=\"linear\")\n",
        "\n",
        "scheduler = torch.optim.lr_scheduler.OneCycleLR(optimizer, \n",
        "                                                max_lr, \n",
        "                                                epochs=EPOCHS, \n",
        "                                                steps_per_epoch=steps_per_epoch, \n",
        "                                                pct_start=pct_start, \n",
        "                                                anneal_strategy='cos', \n",
        "                                                cycle_momentum=True, \n",
        "                                                base_momentum=0.85, \n",
        "                                                max_momentum=0.95, \n",
        "                                                div_factor=div_factor, \n",
        "                                                final_div_factor=final_div_factor, \n",
        "                                                last_epoch=-1)\n",
        "\n",
        "\n",
        "input_size=(3,32,32)"
      ],
      "execution_count": 12,
      "outputs": [
        {
          "output_type": "stream",
          "text": [
            "maxlr:  0.018810061224489794\n",
            "epochs:  24\n",
            "steps_per_epoch:  98\n",
            "pct_start:  0.20833333333333334\n",
            "div_factor:  18.810061224489793\n",
            "final_div_factor:  5.3163038018081945\n"
          ],
          "name": "stdout"
        }
      ]
    },
    {
      "cell_type": "code",
      "metadata": {
        "id": "hxrK-5CIGtL7",
        "colab_type": "code",
        "colab": {}
      },
      "source": [
        "def run(l1_decay=0.0, l2_decay=0.0):\n",
        "  train_losses=[]\n",
        "  test_losses = []\n",
        "  train_accs=[]\n",
        "  test_accs = []\n",
        "  misclassified_imgs = []\n",
        "  correct_imgs = []\n",
        "  LR_list = []\n",
        "  EPOCHS = 24\n",
        "  #args.epochs\n",
        "  for epoch in range(EPOCHS):\n",
        "      print(\"EPOCH:\", epoch,'LR:',optimizer.param_groups[0]['lr'])\n",
        "      LR_list.append(optimizer.param_groups[0]['lr'])\n",
        "      train_test.train(model, device, trainloader, optimizer,scheduler, epoch,False,best_loss)\n",
        "      train_test.test(model, device, testloader,criterion, classes, test_losses, test_accs,misclassified_imgs,correct_imgs,epoch==args.epochs-1)        \n",
        "      #scheduler.step()\n",
        "  return train_losses, train_accs, test_losses, test_accs, misclassified_imgs,correct_imgs"
      ],
      "execution_count": 0,
      "outputs": []
    },
    {
      "cell_type": "code",
      "metadata": {
        "id": "HVZADRSwfZZx",
        "colab_type": "code",
        "outputId": "84585cfd-b226-46e1-f511-4398fed0197c",
        "colab": {
          "base_uri": "https://localhost:8080/",
          "height": 1000
        }
      },
      "source": [
        "# train and test the model\n",
        "train_losses, train_accs, test_losses, test_accs, misclassified_imgs,correct_imgs = run(l1_decay=args.l1_decay, l2_decay=args.l2_decay)"
      ],
      "execution_count": 14,
      "outputs": [
        {
          "output_type": "stream",
          "text": [
            "\r  0%|          | 0/98 [00:00<?, ?it/s]"
          ],
          "name": "stderr"
        },
        {
          "output_type": "stream",
          "text": [
            "EPOCH: 0 LR: 0.0010000000000000009\n"
          ],
          "name": "stdout"
        },
        {
          "output_type": "stream",
          "text": [
            "Loss=1.2165488004684448 Batch_id=97 Accuracy=38.87: 100%|██████████| 98/98 [00:16<00:00,  5.80it/s]\n",
            "  0%|          | 0/98 [00:00<?, ?it/s]"
          ],
          "name": "stderr"
        },
        {
          "output_type": "stream",
          "text": [
            "Test set: Average loss: 0.0027, Accuracy: 5130/10000 (51.30%)\n",
            "\n",
            "EPOCH: 1 LR: 0.0010000000000000009\n"
          ],
          "name": "stdout"
        },
        {
          "output_type": "stream",
          "text": [
            "Loss=1.0275472402572632 Batch_id=97 Accuracy=58.79: 100%|██████████| 98/98 [00:17<00:00,  5.73it/s]\n",
            "  0%|          | 0/98 [00:00<?, ?it/s]"
          ],
          "name": "stderr"
        },
        {
          "output_type": "stream",
          "text": [
            "Test set: Average loss: 0.0022, Accuracy: 6103/10000 (61.03%)\n",
            "\n",
            "EPOCH: 2 LR: 0.0010000000000000009\n"
          ],
          "name": "stdout"
        },
        {
          "output_type": "stream",
          "text": [
            "Loss=0.8926119208335876 Batch_id=97 Accuracy=66.68: 100%|██████████| 98/98 [00:17<00:00,  5.74it/s]\n",
            "  0%|          | 0/98 [00:00<?, ?it/s]"
          ],
          "name": "stderr"
        },
        {
          "output_type": "stream",
          "text": [
            "Test set: Average loss: 0.0019, Accuracy: 6647/10000 (66.47%)\n",
            "\n",
            "EPOCH: 3 LR: 0.0010000000000000009\n"
          ],
          "name": "stdout"
        },
        {
          "output_type": "stream",
          "text": [
            "Loss=0.7613595724105835 Batch_id=97 Accuracy=72.71: 100%|██████████| 98/98 [00:16<00:00,  5.77it/s]\n",
            "  0%|          | 0/98 [00:00<?, ?it/s]"
          ],
          "name": "stderr"
        },
        {
          "output_type": "stream",
          "text": [
            "Test set: Average loss: 0.0016, Accuracy: 7274/10000 (72.74%)\n",
            "\n",
            "EPOCH: 4 LR: 0.0010000000000000009\n"
          ],
          "name": "stdout"
        },
        {
          "output_type": "stream",
          "text": [
            "Loss=0.7288141250610352 Batch_id=97 Accuracy=76.54: 100%|██████████| 98/98 [00:17<00:00,  5.65it/s]\n",
            "  0%|          | 0/98 [00:00<?, ?it/s]"
          ],
          "name": "stderr"
        },
        {
          "output_type": "stream",
          "text": [
            "Test set: Average loss: 0.0015, Accuracy: 7352/10000 (73.52%)\n",
            "\n",
            "EPOCH: 5 LR: 0.0010000000000000009\n"
          ],
          "name": "stdout"
        },
        {
          "output_type": "stream",
          "text": [
            "Loss=0.5761538743972778 Batch_id=97 Accuracy=79.73: 100%|██████████| 98/98 [00:16<00:00,  5.80it/s]\n",
            "  0%|          | 0/98 [00:00<?, ?it/s]"
          ],
          "name": "stderr"
        },
        {
          "output_type": "stream",
          "text": [
            "Test set: Average loss: 0.0014, Accuracy: 7581/10000 (75.81%)\n",
            "\n",
            "EPOCH: 6 LR: 0.0010000000000000009\n"
          ],
          "name": "stdout"
        },
        {
          "output_type": "stream",
          "text": [
            "Loss=0.5168728828430176 Batch_id=97 Accuracy=82.39: 100%|██████████| 98/98 [00:16<00:00,  5.77it/s]\n",
            "  0%|          | 0/98 [00:00<?, ?it/s]"
          ],
          "name": "stderr"
        },
        {
          "output_type": "stream",
          "text": [
            "Test set: Average loss: 0.0013, Accuracy: 7696/10000 (76.96%)\n",
            "\n",
            "EPOCH: 7 LR: 0.0010000000000000009\n"
          ],
          "name": "stdout"
        },
        {
          "output_type": "stream",
          "text": [
            "Loss=0.5375475883483887 Batch_id=97 Accuracy=84.40: 100%|██████████| 98/98 [00:17<00:00,  5.58it/s]\n",
            "  0%|          | 0/98 [00:00<?, ?it/s]"
          ],
          "name": "stderr"
        },
        {
          "output_type": "stream",
          "text": [
            "Test set: Average loss: 0.0013, Accuracy: 7733/10000 (77.33%)\n",
            "\n",
            "EPOCH: 8 LR: 0.0010000000000000009\n"
          ],
          "name": "stdout"
        },
        {
          "output_type": "stream",
          "text": [
            "Loss=0.375832736492157 Batch_id=97 Accuracy=86.60: 100%|██████████| 98/98 [00:16<00:00,  5.81it/s]\n",
            "  0%|          | 0/98 [00:00<?, ?it/s]"
          ],
          "name": "stderr"
        },
        {
          "output_type": "stream",
          "text": [
            "Test set: Average loss: 0.0013, Accuracy: 7849/10000 (78.49%)\n",
            "\n",
            "EPOCH: 9 LR: 0.0010000000000000009\n"
          ],
          "name": "stdout"
        },
        {
          "output_type": "stream",
          "text": [
            "Loss=0.352876752614975 Batch_id=97 Accuracy=88.58: 100%|██████████| 98/98 [00:17<00:00,  5.71it/s]\n",
            "  0%|          | 0/98 [00:00<?, ?it/s]"
          ],
          "name": "stderr"
        },
        {
          "output_type": "stream",
          "text": [
            "Test set: Average loss: 0.0013, Accuracy: 7860/10000 (78.60%)\n",
            "\n",
            "EPOCH: 10 LR: 0.0010000000000000009\n"
          ],
          "name": "stdout"
        },
        {
          "output_type": "stream",
          "text": [
            "Loss=0.3377980589866638 Batch_id=97 Accuracy=90.32: 100%|██████████| 98/98 [00:17<00:00,  5.64it/s]\n",
            "  0%|          | 0/98 [00:00<?, ?it/s]"
          ],
          "name": "stderr"
        },
        {
          "output_type": "stream",
          "text": [
            "Test set: Average loss: 0.0013, Accuracy: 7869/10000 (78.69%)\n",
            "\n",
            "EPOCH: 11 LR: 0.0010000000000000009\n"
          ],
          "name": "stdout"
        },
        {
          "output_type": "stream",
          "text": [
            "Loss=0.22253639996051788 Batch_id=97 Accuracy=91.57: 100%|██████████| 98/98 [00:16<00:00,  5.77it/s]\n",
            "  0%|          | 0/98 [00:00<?, ?it/s]"
          ],
          "name": "stderr"
        },
        {
          "output_type": "stream",
          "text": [
            "Test set: Average loss: 0.0012, Accuracy: 8033/10000 (80.33%)\n",
            "\n",
            "EPOCH: 12 LR: 0.0010000000000000009\n"
          ],
          "name": "stdout"
        },
        {
          "output_type": "stream",
          "text": [
            "Loss=0.23114490509033203 Batch_id=97 Accuracy=93.18: 100%|██████████| 98/98 [00:17<00:00,  5.58it/s]\n",
            "  0%|          | 0/98 [00:00<?, ?it/s]"
          ],
          "name": "stderr"
        },
        {
          "output_type": "stream",
          "text": [
            "Test set: Average loss: 0.0012, Accuracy: 8027/10000 (80.27%)\n",
            "\n",
            "EPOCH: 13 LR: 0.0010000000000000009\n"
          ],
          "name": "stdout"
        },
        {
          "output_type": "stream",
          "text": [
            "Loss=0.22670212388038635 Batch_id=97 Accuracy=94.32: 100%|██████████| 98/98 [00:17<00:00,  5.68it/s]\n",
            "  0%|          | 0/98 [00:00<?, ?it/s]"
          ],
          "name": "stderr"
        },
        {
          "output_type": "stream",
          "text": [
            "Test set: Average loss: 0.0012, Accuracy: 8101/10000 (81.01%)\n",
            "\n",
            "EPOCH: 14 LR: 0.0010000000000000009\n"
          ],
          "name": "stdout"
        },
        {
          "output_type": "stream",
          "text": [
            "Loss=0.2033953219652176 Batch_id=97 Accuracy=95.41: 100%|██████████| 98/98 [00:17<00:00,  5.59it/s]\n",
            "  0%|          | 0/98 [00:00<?, ?it/s]"
          ],
          "name": "stderr"
        },
        {
          "output_type": "stream",
          "text": [
            "Test set: Average loss: 0.0012, Accuracy: 8099/10000 (80.99%)\n",
            "\n",
            "EPOCH: 15 LR: 0.0010000000000000009\n"
          ],
          "name": "stdout"
        },
        {
          "output_type": "stream",
          "text": [
            "Loss=0.2168342024087906 Batch_id=97 Accuracy=95.93: 100%|██████████| 98/98 [00:17<00:00,  5.55it/s]\n",
            "  0%|          | 0/98 [00:00<?, ?it/s]"
          ],
          "name": "stderr"
        },
        {
          "output_type": "stream",
          "text": [
            "Test set: Average loss: 0.0012, Accuracy: 8156/10000 (81.56%)\n",
            "\n",
            "EPOCH: 16 LR: 0.0010000000000000009\n"
          ],
          "name": "stdout"
        },
        {
          "output_type": "stream",
          "text": [
            "Loss=0.12000972032546997 Batch_id=97 Accuracy=96.71: 100%|██████████| 98/98 [00:17<00:00,  5.67it/s]\n",
            "  0%|          | 0/98 [00:00<?, ?it/s]"
          ],
          "name": "stderr"
        },
        {
          "output_type": "stream",
          "text": [
            "Test set: Average loss: 0.0011, Accuracy: 8206/10000 (82.06%)\n",
            "\n",
            "EPOCH: 17 LR: 0.0010000000000000009\n"
          ],
          "name": "stdout"
        },
        {
          "output_type": "stream",
          "text": [
            "Loss=0.11560574173927307 Batch_id=97 Accuracy=97.03: 100%|██████████| 98/98 [00:16<00:00,  5.83it/s]\n",
            "  0%|          | 0/98 [00:00<?, ?it/s]"
          ],
          "name": "stderr"
        },
        {
          "output_type": "stream",
          "text": [
            "Test set: Average loss: 0.0012, Accuracy: 8159/10000 (81.59%)\n",
            "\n",
            "EPOCH: 18 LR: 0.0010000000000000009\n"
          ],
          "name": "stdout"
        },
        {
          "output_type": "stream",
          "text": [
            "Loss=0.09700611978769302 Batch_id=97 Accuracy=97.64: 100%|██████████| 98/98 [00:17<00:00,  5.64it/s]\n",
            "  0%|          | 0/98 [00:00<?, ?it/s]"
          ],
          "name": "stderr"
        },
        {
          "output_type": "stream",
          "text": [
            "Test set: Average loss: 0.0012, Accuracy: 8148/10000 (81.48%)\n",
            "\n",
            "EPOCH: 19 LR: 0.0010000000000000009\n"
          ],
          "name": "stdout"
        },
        {
          "output_type": "stream",
          "text": [
            "Loss=0.06512552499771118 Batch_id=97 Accuracy=98.18: 100%|██████████| 98/98 [00:16<00:00,  5.81it/s]\n",
            "  0%|          | 0/98 [00:00<?, ?it/s]"
          ],
          "name": "stderr"
        },
        {
          "output_type": "stream",
          "text": [
            "Test set: Average loss: 0.0011, Accuracy: 8259/10000 (82.59%)\n",
            "\n",
            "EPOCH: 20 LR: 0.0010000000000000009\n"
          ],
          "name": "stdout"
        },
        {
          "output_type": "stream",
          "text": [
            "Loss=0.0668310821056366 Batch_id=97 Accuracy=98.51: 100%|██████████| 98/98 [00:17<00:00,  5.74it/s]\n",
            "  0%|          | 0/98 [00:00<?, ?it/s]"
          ],
          "name": "stderr"
        },
        {
          "output_type": "stream",
          "text": [
            "Test set: Average loss: 0.0012, Accuracy: 8240/10000 (82.40%)\n",
            "\n",
            "EPOCH: 21 LR: 0.0010000000000000009\n"
          ],
          "name": "stdout"
        },
        {
          "output_type": "stream",
          "text": [
            "Loss=0.06080537661910057 Batch_id=97 Accuracy=98.81: 100%|██████████| 98/98 [00:16<00:00,  5.78it/s]\n",
            "  0%|          | 0/98 [00:00<?, ?it/s]"
          ],
          "name": "stderr"
        },
        {
          "output_type": "stream",
          "text": [
            "Test set: Average loss: 0.0012, Accuracy: 8227/10000 (82.27%)\n",
            "\n",
            "EPOCH: 22 LR: 0.0010000000000000009\n"
          ],
          "name": "stdout"
        },
        {
          "output_type": "stream",
          "text": [
            "Loss=0.05243554711341858 Batch_id=97 Accuracy=98.86: 100%|██████████| 98/98 [00:16<00:00,  5.80it/s]\n",
            "  0%|          | 0/98 [00:00<?, ?it/s]"
          ],
          "name": "stderr"
        },
        {
          "output_type": "stream",
          "text": [
            "Test set: Average loss: 0.0012, Accuracy: 8250/10000 (82.50%)\n",
            "\n",
            "EPOCH: 23 LR: 0.0010000000000000009\n"
          ],
          "name": "stdout"
        },
        {
          "output_type": "stream",
          "text": [
            "Loss=0.04729399085044861 Batch_id=97 Accuracy=99.17: 100%|██████████| 98/98 [00:16<00:00,  5.79it/s]\n"
          ],
          "name": "stderr"
        },
        {
          "output_type": "stream",
          "text": [
            "Test set: Average loss: 0.0012, Accuracy: 8279/10000 (82.79%)\n",
            "\n"
          ],
          "name": "stdout"
        }
      ]
    },
    {
      "cell_type": "markdown",
      "metadata": {
        "id": "Wdw2NNCUpoCu",
        "colab_type": "text"
      },
      "source": [
        "3. Define a Loss function and optimizer\n",
        "^^^^^^^^^^^^^^^^^^^^^^^^^^^^^^^^^^^^^^^\n",
        "Let's use a Classification Cross-Entropy loss and SGD with momentum.\n",
        "\n"
      ]
    },
    {
      "cell_type": "markdown",
      "metadata": {
        "id": "O-odOrhdpoC2",
        "colab_type": "text"
      },
      "source": [
        "4. Train the network\n",
        "^^^^^^^^^^^^^^^^^^^^\n",
        "\n",
        "This is when things start to get interesting.\n",
        "We simply have to loop over our data iterator, and feed the inputs to the\n",
        "network and optimize.\n",
        "\n"
      ]
    },
    {
      "cell_type": "markdown",
      "metadata": {
        "id": "YLrvL_fHpoC5",
        "colab_type": "text"
      },
      "source": [
        "5. Test the network on the test data\n",
        "^^^^^^^^^^^^^^^^^^^^^^^^^^^^^^^^^^^^\n",
        "\n",
        "We have trained the network for 2 passes over the training dataset.\n",
        "But we need to check if the network has learnt anything at all.\n",
        "\n",
        "We will check this by predicting the class label that the neural network\n",
        "outputs, and checking it against the ground-truth. If the prediction is\n",
        "correct, we add the sample to the list of correct predictions.\n",
        "\n",
        "Okay, first step. Let us display an image from the test set to get familiar.\n",
        "\n"
      ]
    },
    {
      "cell_type": "code",
      "metadata": {
        "id": "nizbsvw9poC6",
        "colab_type": "code",
        "outputId": "7019b455-40e0-486a-8686-4e25075d9f54",
        "colab": {
          "base_uri": "https://localhost:8080/",
          "height": 153
        }
      },
      "source": [
        "showimages.show_predicted_actual(model, device, testloader, classes)"
      ],
      "execution_count": 15,
      "outputs": [
        {
          "output_type": "stream",
          "text": [
            "GroundTruth:    cat   car   car truck   cat\n",
            "Predicted:   deer   car   car truck   cat\n"
          ],
          "name": "stdout"
        },
        {
          "output_type": "display_data",
          "data": {
            "image/png": "[encoded data removed]",
            "text/plain": [
              "<Figure size 432x288 with 1 Axes>"
            ]
          },
          "metadata": {
            "tags": [],
            "needs_background": "light"
          }
        }
      ]
    },
    {
      "cell_type": "markdown",
      "metadata": {
        "id": "DAx4QPHVpoC8",
        "colab_type": "text"
      },
      "source": [
        "Okay, now let us see what the neural network thinks these examples above are:\n",
        "\n"
      ]
    },
    {
      "cell_type": "markdown",
      "metadata": {
        "id": "u8OTHZEApoC_",
        "colab_type": "text"
      },
      "source": [
        "The outputs are energies for the 10 classes.\n",
        "Higher the energy for a class, the more the network\n",
        "thinks that the image is of the particular class.\n",
        "So, let's get the index of the highest energy:\n",
        "\n"
      ]
    },
    {
      "cell_type": "markdown",
      "metadata": {
        "id": "OICa10TFi4Oe",
        "colab_type": "text"
      },
      "source": [
        "## **Visualize GradCAM**\n",
        "\n",
        "Use GradCAM to understand where the network is looking at while prediction"
      ]
    },
    {
      "cell_type": "code",
      "metadata": {
        "id": "ARj2KMtzpHuE",
        "colab_type": "code",
        "outputId": "9c625ecb-3a3e-4932-9041-e18008a04ee2",
        "colab": {
          "base_uri": "https://localhost:8080/",
          "height": 33
        }
      },
      "source": [
        "target_layers = [\"layer1\",\"layer2\",\"layer3\",\"layer4\"]\n",
        "viz_cam = grad_visualize.VisualizeCam(model,classes, target_layers)\n",
        "print (viz_cam)"
      ],
      "execution_count": 16,
      "outputs": [
        {
          "output_type": "stream",
          "text": [
            "<grad_visualize.VisualizeCam object at 0x7fc942098f28>\n"
          ],
          "name": "stdout"
        }
      ]
    },
    {
      "cell_type": "code",
      "metadata": {
        "id": "fQsxdJHFjrc3",
        "colab_type": "code",
        "outputId": "9d54777f-c68c-4353-fce3-28cd4f73ee86",
        "colab": {
          "base_uri": "https://localhost:8080/",
          "height": 407
        }
      },
      "source": [
        "#len(testloader.dataset)\n",
        "print(misclassified_imgs[0][\"img\"])"
      ],
      "execution_count": 17,
      "outputs": [
        {
          "output_type": "stream",
          "text": [
            "tensor([[[ 0.1686, -0.0039,  0.2706,  ...,  0.4118,  0.2000, -0.0275],\n",
            "         [ 0.1922,  0.0902,  0.2627,  ...,  0.3333,  0.1843, -0.0824],\n",
            "         [ 0.0902,  0.0902,  0.2392,  ...,  0.1922,  0.0667, -0.2235],\n",
            "         ...,\n",
            "         [-0.4588, -0.4588, -0.4588,  ..., -0.6941, -0.5373, -0.6235],\n",
            "         [-0.4980, -0.4588, -0.4824,  ..., -0.5922, -0.5137, -0.5922],\n",
            "         [-0.5373, -0.4667, -0.4588,  ..., -0.5765, -0.5529, -0.5216]],\n",
            "\n",
            "        [[ 0.4275,  0.2078,  0.5216,  ...,  0.5294,  0.2941,  0.0667],\n",
            "         [ 0.4510,  0.3176,  0.5059,  ...,  0.3882,  0.2627,  0.0039],\n",
            "         [ 0.3255,  0.3098,  0.4588,  ...,  0.2000,  0.1137, -0.1765],\n",
            "         ...,\n",
            "         [-0.6000, -0.6078, -0.6078,  ..., -0.6392, -0.5294, -0.5765],\n",
            "         [-0.6471, -0.6078, -0.6392,  ..., -0.5529, -0.4824, -0.5294],\n",
            "         [-0.6941, -0.6157, -0.6078,  ..., -0.5451, -0.5059, -0.4667]],\n",
            "\n",
            "        [[ 0.6941,  0.5216,  0.7490,  ...,  0.6549,  0.4275,  0.2157],\n",
            "         [ 0.7333,  0.6392,  0.8039,  ...,  0.5216,  0.3882,  0.1373],\n",
            "         [ 0.6235,  0.6000,  0.7569,  ...,  0.3020,  0.2471, -0.0588],\n",
            "         ...,\n",
            "         [-0.6471, -0.6549, -0.6627,  ..., -0.7255, -0.6549, -0.7255],\n",
            "         [-0.6941, -0.6549, -0.6941,  ..., -0.6549, -0.6471, -0.7020],\n",
            "         [-0.7490, -0.6549, -0.6627,  ..., -0.6941, -0.7020, -0.7176]]],\n",
            "       device='cuda:0')\n"
          ],
          "name": "stdout"
        }
      ]
    },
    {
      "cell_type": "code",
      "metadata": {
        "id": "RIFnG4DTpPIO",
        "colab_type": "code",
        "outputId": "77917fed-d728-41b1-e46a-6cb53a00db5b",
        "colab": {
          "base_uri": "https://localhost:8080/",
          "height": 328
        }
      },
      "source": [
        "#GradCam for incorrectly classified images\n",
        "\n",
        "num_img = 5\n",
        "incorrect_pred_imgs = []\n",
        "truth_inds = []\n",
        "for i in range(num_img):\n",
        "  incorrect_pred_imgs.append(torch.as_tensor(misclassified_imgs[i][\"img\"]))\n",
        "  truth_inds.append(misclassified_imgs[i][\"target\"])\n",
        "  #incorrect_pred_imgs\n",
        "viz_cam(torch.stack(incorrect_pred_imgs), truth_inds, target_layers, metric=\"incorrect\")\n"
      ],
      "execution_count": 18,
      "outputs": [
        {
          "output_type": "error",
          "ename": "KeyError",
          "evalue": "ignored",
          "traceback": [
            "\u001b[0;31m---------------------------------------------------------------------------\u001b[0m",
            "\u001b[0;31mKeyError\u001b[0m                                  Traceback (most recent call last)",
            "\u001b[0;32m<ipython-input-18-939b2ce3abcf>\u001b[0m in \u001b[0;36m<module>\u001b[0;34m()\u001b[0m\n\u001b[1;32m      7\u001b[0m   \u001b[0mtruth_inds\u001b[0m\u001b[0;34m.\u001b[0m\u001b[0mappend\u001b[0m\u001b[0;34m(\u001b[0m\u001b[0mmisclassified_imgs\u001b[0m\u001b[0;34m[\u001b[0m\u001b[0mi\u001b[0m\u001b[0;34m]\u001b[0m\u001b[0;34m[\u001b[0m\u001b[0;34m\"target\"\u001b[0m\u001b[0;34m]\u001b[0m\u001b[0;34m)\u001b[0m\u001b[0;34m\u001b[0m\u001b[0;34m\u001b[0m\u001b[0m\n\u001b[1;32m      8\u001b[0m   \u001b[0;31m#incorrect_pred_imgs\u001b[0m\u001b[0;34m\u001b[0m\u001b[0;34m\u001b[0m\u001b[0;34m\u001b[0m\u001b[0m\n\u001b[0;32m----> 9\u001b[0;31m \u001b[0mviz_cam\u001b[0m\u001b[0;34m(\u001b[0m\u001b[0mtorch\u001b[0m\u001b[0;34m.\u001b[0m\u001b[0mstack\u001b[0m\u001b[0;34m(\u001b[0m\u001b[0mincorrect_pred_imgs\u001b[0m\u001b[0;34m)\u001b[0m\u001b[0;34m,\u001b[0m \u001b[0mtruth_inds\u001b[0m\u001b[0;34m,\u001b[0m \u001b[0mtarget_layers\u001b[0m\u001b[0;34m,\u001b[0m \u001b[0mmetric\u001b[0m\u001b[0;34m=\u001b[0m\u001b[0;34m\"incorrect\"\u001b[0m\u001b[0;34m)\u001b[0m\u001b[0;34m\u001b[0m\u001b[0;34m\u001b[0m\u001b[0m\n\u001b[0m",
            "\u001b[0;32m/content/gdrive/My Drive/Colab Notebooks/EVA4/Mou_Library/grad_visualize.py\u001b[0m in \u001b[0;36m__call__\u001b[0;34m(self, images, truth_inds, target_layers, target_inds, metric, per_image)\u001b[0m\n\u001b[1;32m     71\u001b[0m \tdef __call__(self, images, truth_inds, target_layers, target_inds=None,\n\u001b[1;32m     72\u001b[0m \t\t\t\tmetric=\"\", per_image=True):\n\u001b[0;32m---> 73\u001b[0;31m                 \u001b[0mmasks_map\u001b[0m\u001b[0;34m,\u001b[0m \u001b[0mpred\u001b[0m \u001b[0;34m=\u001b[0m \u001b[0mself\u001b[0m\u001b[0;34m.\u001b[0m\u001b[0mgcam\u001b[0m\u001b[0;34m(\u001b[0m\u001b[0mimages\u001b[0m\u001b[0;34m,\u001b[0m \u001b[0mtarget_layers\u001b[0m\u001b[0;34m,\u001b[0m \u001b[0mtarget_inds\u001b[0m\u001b[0;34m)\u001b[0m\u001b[0;34m\u001b[0m\u001b[0;34m\u001b[0m\u001b[0m\n\u001b[0m\u001b[1;32m     74\u001b[0m                 \u001b[0;32mif\u001b[0m \u001b[0mper_image\u001b[0m\u001b[0;34m:\u001b[0m\u001b[0;34m\u001b[0m\u001b[0;34m\u001b[0m\u001b[0m\n\u001b[1;32m     75\u001b[0m                         \u001b[0;32mfor\u001b[0m \u001b[0mi\u001b[0m \u001b[0;32min\u001b[0m \u001b[0mrange\u001b[0m\u001b[0;34m(\u001b[0m\u001b[0mlen\u001b[0m\u001b[0;34m(\u001b[0m\u001b[0mimages\u001b[0m\u001b[0;34m)\u001b[0m\u001b[0;34m)\u001b[0m\u001b[0;34m:\u001b[0m\u001b[0;34m\u001b[0m\u001b[0;34m\u001b[0m\u001b[0m\n",
            "\u001b[0;32m/content/gdrive/My Drive/Colab Notebooks/EVA4/Mou_Library/gradcam.py\u001b[0m in \u001b[0;36m__call__\u001b[0;34m(self, data, target_layers, target_class)\u001b[0m\n\u001b[1;32m     62\u001b[0m                 \u001b[0msaliency_maps\u001b[0m \u001b[0;34m=\u001b[0m \u001b[0;34m{\u001b[0m\u001b[0;34m}\u001b[0m\u001b[0;34m\u001b[0m\u001b[0;34m\u001b[0m\u001b[0m\n\u001b[1;32m     63\u001b[0m                 \u001b[0;32mfor\u001b[0m \u001b[0mtarget_layer\u001b[0m \u001b[0;32min\u001b[0m \u001b[0mtarget_layers\u001b[0m\u001b[0;34m:\u001b[0m\u001b[0;34m\u001b[0m\u001b[0;34m\u001b[0m\u001b[0m\n\u001b[0;32m---> 64\u001b[0;31m                         \u001b[0mactivations\u001b[0m \u001b[0;34m=\u001b[0m \u001b[0mself\u001b[0m\u001b[0;34m.\u001b[0m\u001b[0mactivations_map\u001b[0m\u001b[0;34m[\u001b[0m\u001b[0mtarget_layer\u001b[0m\u001b[0;34m]\u001b[0m        \u001b[0;31m#[64, 512, 4, 4]\u001b[0m\u001b[0;34m\u001b[0m\u001b[0;34m\u001b[0m\u001b[0m\n\u001b[0m\u001b[1;32m     65\u001b[0m                         \u001b[0mgrads\u001b[0m \u001b[0;34m=\u001b[0m \u001b[0mself\u001b[0m\u001b[0;34m.\u001b[0m\u001b[0mgradients_map\u001b[0m\u001b[0;34m[\u001b[0m\u001b[0mtarget_layer\u001b[0m\u001b[0;34m]\u001b[0m        \u001b[0;31m#[64, 512, 4, 4]\u001b[0m\u001b[0;34m\u001b[0m\u001b[0;34m\u001b[0m\u001b[0m\n\u001b[1;32m     66\u001b[0m                         \u001b[0mweights\u001b[0m \u001b[0;34m=\u001b[0m \u001b[0mF\u001b[0m\u001b[0;34m.\u001b[0m\u001b[0madaptive_avg_pool2d\u001b[0m\u001b[0;34m(\u001b[0m\u001b[0mgrads\u001b[0m\u001b[0;34m,\u001b[0m \u001b[0;36m1\u001b[0m\u001b[0;34m)\u001b[0m       \u001b[0;31m#[64, 512, 1, 1]\u001b[0m\u001b[0;34m\u001b[0m\u001b[0;34m\u001b[0m\u001b[0m\n",
            "\u001b[0;31mKeyError\u001b[0m: 'layer4'"
          ]
        }
      ]
    },
    {
      "cell_type": "code",
      "metadata": {
        "id": "jETX_qIwjUVK",
        "colab_type": "code",
        "colab": {}
      },
      "source": [
        "num_img = 25\n",
        "incorrect_pred_imgs = []\n",
        "truth_inds = []\n",
        "for i in range(num_img):\n",
        "  incorrect_pred_imgs.append(torch.as_tensor(misclassified_imgs[i][\"img\"]))\n",
        "  truth_inds.append(misclassified_imgs[i][\"target\"])\n",
        "viz_cam(torch.stack(incorrect_pred_imgs), truth_inds, target_layers, metric=\"incorrect\", per_image=False)"
      ],
      "execution_count": 0,
      "outputs": []
    },
    {
      "cell_type": "markdown",
      "metadata": {
        "id": "2TV0TXL1poDC",
        "colab_type": "text"
      },
      "source": [
        "The results seem pretty good.\n",
        "\n",
        "Let us look at how the network performs on the whole dataset.\n",
        "\n"
      ]
    },
    {
      "cell_type": "code",
      "metadata": {
        "id": "SZ4-5CESpoDD",
        "colab_type": "code",
        "outputId": "dd3a3f3b-64f7-4560-ab81-655818d1686f",
        "colab": {
          "base_uri": "https://localhost:8080/",
          "height": 33
        }
      },
      "source": [
        "showimages.evaluate_accuracy(model, device, testloader)"
      ],
      "execution_count": 19,
      "outputs": [
        {
          "output_type": "stream",
          "text": [
            "Accuracy of the network on the 10000 test images: 82 %\n"
          ],
          "name": "stdout"
        }
      ]
    },
    {
      "cell_type": "markdown",
      "metadata": {
        "id": "eDdwPBl8poDF",
        "colab_type": "text"
      },
      "source": [
        "That looks waaay better than chance, which is 10% accuracy (randomly picking\n",
        "a class out of 10 classes).\n",
        "Seems like the network learnt something.\n",
        "\n",
        "Hmmm, what are the classes that performed well, and the classes that did\n",
        "not perform well:\n",
        "\n"
      ]
    },
    {
      "cell_type": "code",
      "metadata": {
        "id": "pDNFuDEDpoDG",
        "colab_type": "code",
        "outputId": "acc1e86c-bf91-428c-d88e-e7ca719bcc91",
        "colab": {
          "base_uri": "https://localhost:8080/",
          "height": 180
        }
      },
      "source": [
        "showimages.evaluate_classwise_accuracy(model, device, classes, testloader)"
      ],
      "execution_count": 20,
      "outputs": [
        {
          "output_type": "stream",
          "text": [
            "Accuracy of plane : 80 %\n",
            "Accuracy of   car : 100 %\n",
            "Accuracy of  bird : 66 %\n",
            "Accuracy of   cat : 50 %\n",
            "Accuracy of  deer : 66 %\n",
            "Accuracy of   dog : 57 %\n",
            "Accuracy of  frog : 90 %\n",
            "Accuracy of horse : 100 %\n",
            "Accuracy of  ship : 75 %\n",
            "Accuracy of truck : 100 %\n"
          ],
          "name": "stdout"
        }
      ]
    },
    {
      "cell_type": "markdown",
      "metadata": {
        "id": "nvvsbbRj1Ozg",
        "colab_type": "text"
      },
      "source": [
        "## **Plot Validation Accuracy**\n",
        "Plot the change in validation accracy vs epochs"
      ]
    },
    {
      "cell_type": "code",
      "metadata": {
        "id": "mzuAT3rx1BQL",
        "colab_type": "code",
        "colab": {}
      },
      "source": [
        "plt_data = {\n",
        "    \"train\": train_accs,\n",
        "    \"val\": test_accs\n",
        "}\n",
        "plotresults.plot_graph(plt_data, \"Accuracy\")"
      ],
      "execution_count": 0,
      "outputs": []
    }
  ]
}