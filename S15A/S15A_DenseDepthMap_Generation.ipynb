{
  "nbformat": 4,
  "nbformat_minor": 0,
  "metadata": {
    "colab": {
      "name": " S15A_DenseDepthMap_Generation.ipynb",
      "provenance": [],
      "collapsed_sections": [],
      "machine_shape": "hm",
      "include_colab_link": true
    },
    "kernelspec": {
      "name": "python3",
      "display_name": "Python 3"
    },
    "accelerator": "GPU"
  },
  "cells": [
    {
      "cell_type": "markdown",
      "metadata": {
        "id": "view-in-github",
        "colab_type": "text"
      },
      "source": [
        "<a href=\"https://colab.research.google.com/github/MohuaSinha/EVA4/blob/master/S15A/S15A_DenseDepthMap_Generation.ipynb\" target=\"_parent\"><img src=\"https://colab.research.google.com/assets/colab-badge.svg\" alt=\"Open In Colab\"/></a>"
      ]
    },
    {
      "cell_type": "code",
      "metadata": {
        "id": "qm-3NLRFWrNd",
        "colab_type": "code",
        "outputId": "d91692e6-35a2-4b14-d7a1-6cbbfd024021",
        "colab": {
          "base_uri": "https://localhost:8080/",
          "height": 118
        }
      },
      "source": [
        "from google.colab import drive\n",
        "drive.mount('/content/gdrive')"
      ],
      "execution_count": 1,
      "outputs": [
        {
          "output_type": "stream",
          "text": [
            "Go to this URL in a browser: https://accounts.google.com/o/oauth2/auth?client_id=947318989803-6bn6qk8qdgf4n4g3pfee6491hc0brc4i.apps.googleusercontent.com&redirect_uri=urn%3aietf%3awg%3aoauth%3a2.0%3aoob&response_type=code&scope=email%20https%3a%2f%2fwww.googleapis.com%2fauth%2fdocs.test%20https%3a%2f%2fwww.googleapis.com%2fauth%2fdrive%20https%3a%2f%2fwww.googleapis.com%2fauth%2fdrive.photos.readonly%20https%3a%2f%2fwww.googleapis.com%2fauth%2fpeopleapi.readonly\n",
            "\n",
            "Enter your authorization code:\n",
            "··········\n",
            "Mounted at /content/gdrive\n"
          ],
          "name": "stdout"
        }
      ]
    },
    {
      "cell_type": "markdown",
      "metadata": {
        "id": "view-in-github",
        "colab_type": "text"
      },
      "source": [
        "<a href=\"https://colab.research.google.com/github/ialhashim/DenseDepth/blob/master/DenseDepth.ipynb\" target=\"_parent\"><img src=\"https://colab.research.google.com/assets/colab-badge.svg\" alt=\"Open In Colab\"/></a>"
      ]
    },
    {
      "cell_type": "code",
      "metadata": {
        "id": "ahkR4C5dEnR0",
        "colab_type": "code",
        "outputId": "8729a5bd-d327-4af9-f534-0b2d6f1bd426",
        "colab": {
          "base_uri": "https://localhost:8080/",
          "height": 131
        }
      },
      "source": [
        "!git clone https://github.com/mohuasinha/DenseDepth.git"
      ],
      "execution_count": 2,
      "outputs": [
        {
          "output_type": "stream",
          "text": [
            "Cloning into 'DenseDepth'...\n",
            "remote: Enumerating objects: 14, done.\u001b[K\n",
            "remote: Counting objects:   7% (1/14)\u001b[K\rremote: Counting objects:  14% (2/14)\u001b[K\rremote: Counting objects:  21% (3/14)\u001b[K\rremote: Counting objects:  28% (4/14)\u001b[K\rremote: Counting objects:  35% (5/14)\u001b[K\rremote: Counting objects:  42% (6/14)\u001b[K\rremote: Counting objects:  50% (7/14)\u001b[K\rremote: Counting objects:  57% (8/14)\u001b[K\rremote: Counting objects:  64% (9/14)\u001b[K\rremote: Counting objects:  71% (10/14)\u001b[K\rremote: Counting objects:  78% (11/14)\u001b[K\rremote: Counting objects:  85% (12/14)\u001b[K\rremote: Counting objects:  92% (13/14)\u001b[K\rremote: Counting objects: 100% (14/14)\u001b[K\rremote: Counting objects: 100% (14/14), done.\u001b[K\n",
            "remote: Compressing objects: 100% (10/10), done.\u001b[K\n",
            "remote: Total 251 (delta 6), reused 12 (delta 4), pack-reused 237\u001b[K\n",
            "Receiving objects: 100% (251/251), 11.80 MiB | 13.58 MiB/s, done.\n",
            "Resolving deltas: 100% (123/123), done.\n"
          ],
          "name": "stdout"
        }
      ]
    },
    {
      "cell_type": "code",
      "metadata": {
        "id": "fFQgwMlNExak",
        "colab_type": "code",
        "outputId": "f31c9501-9048-48a0-80cd-6a8693e252bd",
        "colab": {
          "base_uri": "https://localhost:8080/",
          "height": 196
        }
      },
      "source": [
        "!wget https://s3-eu-west-1.amazonaws.com/densedepth/nyu.h5 -O ./DenseDepth/nyu.h5"
      ],
      "execution_count": 3,
      "outputs": [
        {
          "output_type": "stream",
          "text": [
            "--2020-05-10 15:16:51--  https://s3-eu-west-1.amazonaws.com/densedepth/nyu.h5\n",
            "Resolving s3-eu-west-1.amazonaws.com (s3-eu-west-1.amazonaws.com)... 52.218.102.3\n",
            "Connecting to s3-eu-west-1.amazonaws.com (s3-eu-west-1.amazonaws.com)|52.218.102.3|:443... connected.\n",
            "HTTP request sent, awaiting response... 200 OK\n",
            "Length: 172897376 (165M) [application/h5]\n",
            "Saving to: ‘./DenseDepth/nyu.h5’\n",
            "\n",
            "./DenseDepth/nyu.h5 100%[===================>] 164.89M  78.4MB/s    in 2.1s    \n",
            "\n",
            "2020-05-10 15:16:53 (78.4 MB/s) - ‘./DenseDepth/nyu.h5’ saved [172897376/172897376]\n",
            "\n"
          ],
          "name": "stdout"
        }
      ]
    },
    {
      "cell_type": "code",
      "metadata": {
        "id": "YoUoRJO-UCtX",
        "colab_type": "code",
        "colab": {}
      },
      "source": [
        "#Manually make a copy of fg_bg.zip as depth_fg_bg.zip\n",
        "#cp '/content/gdrive/My Drive/Colab Notebooks/EVA4/S15A/output/fg_bg.zip' '/content/depth_fg_bg.zip'"
      ],
      "execution_count": 0,
      "outputs": []
    },
    {
      "cell_type": "code",
      "metadata": {
        "id": "MKTLeHmanbrQ",
        "colab_type": "code",
        "colab": {}
      },
      "source": [
        "import zipfile\n",
        "\n",
        "archive = zipfile.ZipFile('/content/gdrive/My Drive/Colab Notebooks/EVA4/S14_15/output/fg_bg.zip')\n",
        "for file in archive.namelist():\n",
        "    if file.startswith('image/'):\n",
        "        archive.extract(file, '/content/')"
      ],
      "execution_count": 0,
      "outputs": []
    },
    {
      "cell_type": "code",
      "metadata": {
        "id": "TGpu5-rljKxs",
        "colab_type": "code",
        "colab": {}
      },
      "source": [
        "#!cp '/content/gdrive/My Drive/Colab Notebooks/EVA4/S15A/output/fg_bg.zip' '/content/'"
      ],
      "execution_count": 0,
      "outputs": []
    },
    {
      "cell_type": "code",
      "metadata": {
        "id": "lX2i_ezcoNPh",
        "colab_type": "code",
        "outputId": "e125b709-b675-4cb0-c1b8-c28c1d8a0e2c",
        "colab": {
          "base_uri": "https://localhost:8080/",
          "height": 33
        }
      },
      "source": [
        "!ls '/content/image' | wc -l"
      ],
      "execution_count": 7,
      "outputs": [
        {
          "output_type": "stream",
          "text": [
            "400000\n"
          ],
          "name": "stdout"
        }
      ]
    },
    {
      "cell_type": "code",
      "metadata": {
        "id": "hNe40djEe4KY",
        "colab_type": "code",
        "colab": {}
      },
      "source": [
        "!mkdir '/content/depthmap'"
      ],
      "execution_count": 0,
      "outputs": []
    },
    {
      "cell_type": "code",
      "metadata": {
        "id": "AJcOv82VT97N",
        "colab_type": "code",
        "outputId": "aa0383e6-50f5-4afc-9512-5ac54c0a5d25",
        "colab": {
          "base_uri": "https://localhost:8080/",
          "height": 33
        }
      },
      "source": [
        "!ls '/content/depthmap' | wc -l"
      ],
      "execution_count": 9,
      "outputs": [
        {
          "output_type": "stream",
          "text": [
            "0\n"
          ],
          "name": "stdout"
        }
      ]
    },
    {
      "cell_type": "code",
      "metadata": {
        "id": "-A8CkTjyUR_J",
        "colab_type": "code",
        "colab": {}
      },
      "source": [
        "#!rm -rf '/content/depthmap'"
      ],
      "execution_count": 0,
      "outputs": []
    },
    {
      "cell_type": "code",
      "metadata": {
        "id": "ayhp377uTrb2",
        "colab_type": "code",
        "outputId": "6e7e8710-bb59-4947-a53e-170fd5711ece",
        "colab": {
          "base_uri": "https://localhost:8080/",
          "height": 33
        }
      },
      "source": [
        "!pwd"
      ],
      "execution_count": 11,
      "outputs": [
        {
          "output_type": "stream",
          "text": [
            "/content\n"
          ],
          "name": "stdout"
        }
      ]
    },
    {
      "cell_type": "code",
      "metadata": {
        "id": "rFEOfb-htkYm",
        "colab_type": "code",
        "outputId": "9b5556ad-2c0b-4725-fbbd-8cb88ae28972",
        "colab": {
          "base_uri": "https://localhost:8080/",
          "height": 33
        }
      },
      "source": [
        "cd DenseDepth"
      ],
      "execution_count": 12,
      "outputs": [
        {
          "output_type": "stream",
          "text": [
            "/content/DenseDepth\n"
          ],
          "name": "stdout"
        }
      ]
    },
    {
      "cell_type": "code",
      "metadata": {
        "id": "50AYGlMDucyV",
        "colab_type": "code",
        "colab": {}
      },
      "source": [
        "import sys\n",
        "workingdir = '/content/DenseDepth'\n",
        "sys.path.append(workingdir)"
      ],
      "execution_count": 0,
      "outputs": []
    },
    {
      "cell_type": "code",
      "metadata": {
        "id": "fpMgq8wAwfxm",
        "colab_type": "code",
        "outputId": "7d09e2d4-e52f-4e1c-eb4c-59be24136fe0",
        "colab": {
          "base_uri": "https://localhost:8080/",
          "height": 82
        }
      },
      "source": [
        "!ls"
      ],
      "execution_count": 14,
      "outputs": [
        {
          "output_type": "stream",
          "text": [
            "augment.py\tdemo.py\t\t  examples   model.py\tTensorflow\n",
            "callbacks.py\tdemo_rgb.npy\t  layers.py  nyu.h5\ttest.py\n",
            "data.py\t\tDenseDepth.ipynb  LICENSE    PyTorch\ttrain.py\n",
            "demo_depth.npy\tevaluate.py\t  loss.py    README.md\tutils.py\n"
          ],
          "name": "stdout"
        }
      ]
    },
    {
      "cell_type": "code",
      "metadata": {
        "id": "N8HuZzC3cQ8X",
        "colab_type": "code",
        "colab": {}
      },
      "source": [
        "import numpy as np\n",
        "from PIL import Image\n",
        "import matplotlib.pyplot as plt\n",
        "from tqdm import notebook\n",
        "import zipfile\n",
        "\n",
        "def load_images(path, start, end):\n",
        "    loaded_images = []\n",
        "    for i in range(start, end+1):\n",
        "        x = np.clip(np.asarray(Image.open(f\"{path}fg_bg_{str(i)}.jpg\" ).resize((256, 256)), dtype=float) / 255, 0, 1)\n",
        "        #x = np.clip(np.asarray(Image.open(f\"{path}fg_bg_{str(i)}.jpg\" ), dtype=float) / 255, 0, 1)\n",
        "        loaded_images.append(x)\n",
        "    return np.stack(loaded_images, axis=0)\n",
        "\n",
        "\n",
        "def write_images(out_zip, path, start, outputs, inputs=None, gt=None, is_colormap=True, is_rescale=True, log=False):\n",
        "    import matplotlib.pyplot as plt\n",
        "    import skimage\n",
        "    from skimage.transform import resize\n",
        "\n",
        "    plasma = plt.get_cmap('gray')\n",
        "\n",
        "    shape = (outputs[0].shape[0], outputs[0].shape[1], 3)\n",
        "    if log:\n",
        "        print(shape)\n",
        "    \n",
        "    #all_images = []\n",
        "    start = start\n",
        "    for i in notebook.tqdm(range(outputs.shape[0]),desc = f\"Loading from {start} images\") :\n",
        "    \n",
        "        if is_colormap:\n",
        "            rescaled = outputs[i][:,:,0]\n",
        "            if is_rescale:\n",
        "                rescaled = rescaled - np.min(rescaled)\n",
        "                rescaled = rescaled / np.max(rescaled)\n",
        "  \n",
        "            plt.figure(figsize=(2.24,2.24),dpi=100)\n",
        "            matplotlib_image = plt.imshow(plasma(rescaled)[:,:,:3])\n",
        "            pil_image = Image.fromarray(np.uint8( ( matplotlib_image.get_array()*255))).convert(\"L\").resize((220, 220))\n",
        "            #pil_image = Image.fromarray(np.uint8( ( matplotlib_image.get_array()*255))).convert(\"L\")\n",
        "            pil_image.save('imgtemp.jpg', optimize=True, quality=30)\n",
        "            out_zip.write('imgtemp.jpg',f'depthmap/depth_{str(start)}.jpg')\n",
        "            #if log:\n",
        "            #    print(\"Saving Image: \", f\"{path}depth_{str(start)}.jpg\")\n",
        "            pil_image.save(f\"{path}depth_{str(start)}.jpg\")\n",
        "            plt.close()\n",
        "            pil_image = None \n",
        "            matplotlib_image = None\n",
        "            start+=1"
      ],
      "execution_count": 0,
      "outputs": []
    },
    {
      "cell_type": "code",
      "metadata": {
        "id": "gMfgWLvSgK4s",
        "colab_type": "code",
        "colab": {}
      },
      "source": [
        "#!ls '/content/image'"
      ],
      "execution_count": 0,
      "outputs": []
    },
    {
      "cell_type": "code",
      "metadata": {
        "id": "i10FJDrVoXV6",
        "colab_type": "code",
        "outputId": "f78b8c17-9a06-4145-b518-293b8a33ec7c",
        "colab": {
          "base_uri": "https://localhost:8080/",
          "height": 240
        }
      },
      "source": [
        "import test\n",
        "import time\n",
        "import gc\n",
        "\n",
        "\n",
        "INPATH = \"/content/image/\"\n",
        "OUTPATH = \"/content/depthmap/\"\n",
        "\n",
        "start_time = time.time()\n",
        "\n",
        "total_images = 400000\n",
        "#total_images = 4000\n",
        "batch_size = 500\n",
        "num_iter = int(total_images/batch_size)\n",
        "#num_iter = 250\n",
        "image_start = 200000\n",
        "\n",
        "print(\"Generating Depth Images for:\", total_images, \"in batches of:\", batch_size, \"with \", num_iter, \"iterations\")\n",
        "\n",
        "model = test.loadmodel()\n",
        "\n",
        "outputs = []\n",
        "inputs = []\n",
        "log = False\n",
        "\n",
        "for  i in range(1, num_iter+1):\n",
        "  iter_start = time.time()\n",
        "  out_zip =zipfile.ZipFile(f'/content/gdrive/My Drive/Colab Notebooks/EVA4/S14_15/output/depth_map_from 200000.zip', mode='a', compression=zipfile.ZIP_STORED)\n",
        "  start = image_start\n",
        "  end = image_start + batch_size - 1\n",
        "  print(\"Generating Image: \", image_start, \" to \", end)\n",
        "  inputs = load_images(INPATH, start, end)\n",
        "  print('\\nLoaded ({0}) images of size {1}.'.format(inputs.shape[0], inputs.shape[1:]))\n",
        "  outputs = test.predict_output(model, inputs, log=True)\n",
        "  write_images(out_zip, OUTPATH, start, outputs.copy(), log=True)\n",
        "  print(\"Iteration:\", i, \"--- %s seconds ---\" % (time.time() - iter_start), \" --- Total : %s seconds ---\" % (time.time() - start_time))\n",
        "  image_start = image_start + batch_size\n",
        "  inputs = None\n",
        "  outputs = None\n",
        "  out_zip.close()\n",
        "  gc.collect()\n",
        "\n",
        "print(\"--- %s seconds ---\" % (time.time() - start_time))\n"
      ],
      "execution_count": 1,
      "outputs": [
        {
          "output_type": "stream",
          "text": [
            "Generating Depth Images for: 400000 in batches of: 500 with  800 iterations\n"
          ],
          "name": "stdout"
        },
        {
          "output_type": "error",
          "ename": "AttributeError",
          "evalue": "ignored",
          "traceback": [
            "\u001b[0;31m---------------------------------------------------------------------------\u001b[0m",
            "\u001b[0;31mAttributeError\u001b[0m                            Traceback (most recent call last)",
            "\u001b[0;32m<ipython-input-1-4be8d2b3a9db>\u001b[0m in \u001b[0;36m<module>\u001b[0;34m()\u001b[0m\n\u001b[1;32m     18\u001b[0m \u001b[0mprint\u001b[0m\u001b[0;34m(\u001b[0m\u001b[0;34m\"Generating Depth Images for:\"\u001b[0m\u001b[0;34m,\u001b[0m \u001b[0mtotal_images\u001b[0m\u001b[0;34m,\u001b[0m \u001b[0;34m\"in batches of:\"\u001b[0m\u001b[0;34m,\u001b[0m \u001b[0mbatch_size\u001b[0m\u001b[0;34m,\u001b[0m \u001b[0;34m\"with \"\u001b[0m\u001b[0;34m,\u001b[0m \u001b[0mnum_iter\u001b[0m\u001b[0;34m,\u001b[0m \u001b[0;34m\"iterations\"\u001b[0m\u001b[0;34m)\u001b[0m\u001b[0;34m\u001b[0m\u001b[0;34m\u001b[0m\u001b[0m\n\u001b[1;32m     19\u001b[0m \u001b[0;34m\u001b[0m\u001b[0m\n\u001b[0;32m---> 20\u001b[0;31m \u001b[0mmodel\u001b[0m \u001b[0;34m=\u001b[0m \u001b[0mtest\u001b[0m\u001b[0;34m.\u001b[0m\u001b[0mloadmodel\u001b[0m\u001b[0;34m(\u001b[0m\u001b[0;34m)\u001b[0m\u001b[0;34m\u001b[0m\u001b[0;34m\u001b[0m\u001b[0m\n\u001b[0m\u001b[1;32m     21\u001b[0m \u001b[0;34m\u001b[0m\u001b[0m\n\u001b[1;32m     22\u001b[0m \u001b[0moutputs\u001b[0m \u001b[0;34m=\u001b[0m \u001b[0;34m[\u001b[0m\u001b[0;34m]\u001b[0m\u001b[0;34m\u001b[0m\u001b[0;34m\u001b[0m\u001b[0m\n",
            "\u001b[0;31mAttributeError\u001b[0m: module 'test' has no attribute 'loadmodel'"
          ]
        }
      ]
    },
    {
      "cell_type": "code",
      "metadata": {
        "id": "1xunkX6t6DiY",
        "colab_type": "code",
        "colab": {}
      },
      "source": [
        "!ls '/content/depthmap' | wc -l"
      ],
      "execution_count": 0,
      "outputs": []
    },
    {
      "cell_type": "code",
      "metadata": {
        "id": "-8LVzZfC7osb",
        "colab_type": "code",
        "colab": {}
      },
      "source": [
        "!zip depthmap_121001_to_151000.zip '/content/depthmap'"
      ],
      "execution_count": 0,
      "outputs": []
    },
    {
      "cell_type": "code",
      "metadata": {
        "id": "ApWTyUFxwG9B",
        "colab_type": "code",
        "colab": {}
      },
      "source": [
        "!zip -r depthmap_121001_to_151500.zip '/content/depthmap'"
      ],
      "execution_count": 0,
      "outputs": []
    },
    {
      "cell_type": "code",
      "metadata": {
        "id": "wewzczj57D2o",
        "colab_type": "code",
        "colab": {}
      },
      "source": [
        "cp '/content/depthmap_121001_to_151500.zip' '/content/gdrive/My Drive/Colab Notebooks/EVA4/S15A/output/'"
      ],
      "execution_count": 0,
      "outputs": []
    },
    {
      "cell_type": "code",
      "metadata": {
        "id": "WQoLsajmpuRJ",
        "colab_type": "code",
        "colab": {}
      },
      "source": [
        "!mkdir '/content/depthmap'"
      ],
      "execution_count": 0,
      "outputs": []
    },
    {
      "cell_type": "code",
      "metadata": {
        "id": "kGOrCanY_lNM",
        "colab_type": "code",
        "colab": {}
      },
      "source": [
        "!ls '/content/depthmap' | wc -l"
      ],
      "execution_count": 0,
      "outputs": []
    },
    {
      "cell_type": "code",
      "metadata": {
        "id": "gc4wu7TKwPnZ",
        "colab_type": "code",
        "colab": {}
      },
      "source": [
        "#!rm -rf '/content/gdrive/My Drive/Colab Notebooks/EVA4/S15A/output/depthmap/'"
      ],
      "execution_count": 0,
      "outputs": []
    },
    {
      "cell_type": "code",
      "metadata": {
        "id": "nnfLI1ZFwREe",
        "colab_type": "code",
        "colab": {}
      },
      "source": [
        "!mkdir '/content/gdrive/My Drive/Colab Notebooks/EVA4/S15A/output/depthmap/'"
      ],
      "execution_count": 0,
      "outputs": []
    },
    {
      "cell_type": "code",
      "metadata": {
        "id": "4ZqP4X1Nu3VD",
        "colab_type": "code",
        "colab": {}
      },
      "source": [
        "!cp -r '/content/depthmap/' '/content/gdrive/My Drive/Colab Notebooks/EVA4/S15A/output/'"
      ],
      "execution_count": 0,
      "outputs": []
    },
    {
      "cell_type": "code",
      "metadata": {
        "id": "aM8YKge2DcMC",
        "colab_type": "code",
        "colab": {}
      },
      "source": [
        "!ls '/content/gdrive/My Drive/Colab Notebooks/EVA4/S15A/output/depthmap' | wc -l"
      ],
      "execution_count": 0,
      "outputs": []
    }
  ]
}